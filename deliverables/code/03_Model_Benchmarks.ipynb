{
 "cells": [
  {
   "cell_type": "markdown",
   "id": "6aa6805f-3999-4f25-9c5d-00c5d309a0cb",
   "metadata": {},
   "source": [
    "#  Model_Benchmarks"
   ]
  },
  {
   "cell_type": "markdown",
   "id": "4d267657-d427-4a33-875a-8cc7ff4f4d2b",
   "metadata": {},
   "source": [
    "Anthony Amadasun\n",
    "\n",
    "December 15th 20223"
   ]
  },
  {
   "cell_type": "markdown",
   "id": "3835f912-b545-4812-8c73-05cffc48fbc0",
   "metadata": {},
   "source": [
    "---\n",
    "\n",
    "### Introduction\n",
    "\n",
    "In this notebook, I will establish baseline models and benchmarks for predicting housing prices using the Ames Housing dataset. We'll start by loading the preprocessed data and then proceed to build and evaluate several basic models.\n"
   ]
  },
  {
   "cell_type": "markdown",
   "id": "39150ec0-2a12-4583-b181-93589b8a9102",
   "metadata": {},
   "source": [
    "---\n",
    "\n",
    "### Importing Libraries"
   ]
  },
  {
   "cell_type": "code",
   "execution_count": 1,
   "id": "1792fa48-192d-4703-8728-9ba67072b8dc",
   "metadata": {
    "tags": []
   },
   "outputs": [],
   "source": [
    "import pandas as pd\n",
    "import numpy as np\n",
    "import seaborn as sns\n",
    "import matplotlib as plt\n",
    "\n",
    "from sklearn.metrics import mean_squared_error, mean_absolute_error, r2_score\n",
    "from sklearn.linear_model import LinearRegression, Ridge, Lasso\n",
    "from sklearn.model_selection import train_test_split, cross_val_score\n",
    "from sklearn.preprocessing import StandardScaler, PolynomialFeatures"
   ]
  },
  {
   "cell_type": "markdown",
   "id": "710086f7-d38f-4881-b751-e65b20debee4",
   "metadata": {},
   "source": [
    "---\n",
    "\n",
    "### Load in Data"
   ]
  },
  {
   "cell_type": "code",
   "execution_count": 2,
   "id": "2b26caa8-4e90-48ae-be19-c003dd22d452",
   "metadata": {
    "tags": []
   },
   "outputs": [],
   "source": [
    "# load preprocessed data\n",
    "df_cleaned = pd.read_csv('../data/test_clean2.csv')\n",
    "file_path_train = '../data/train.csv'\n",
    "df_train = pd.read_csv(file_path_train)"
   ]
  },
  {
   "cell_type": "markdown",
   "id": "e1feda1a-6a25-4392-a479-9392d937ac7c",
   "metadata": {
    "tags": []
   },
   "source": [
    "---\n",
    "\n",
    "### Baseline Model"
   ]
  },
  {
   "cell_type": "code",
   "execution_count": 3,
   "id": "5324e3fb-1794-48e3-8f13-09fa3a5958d3",
   "metadata": {
    "tags": []
   },
   "outputs": [],
   "source": [
    "X = df_cleaned.select_dtypes(include=['float64', 'int64']).drop('SalePrice', axis=1)\n",
    "y = df_cleaned['SalePrice']"
   ]
  },
  {
   "cell_type": "code",
   "execution_count": 4,
   "id": "9c0d8b3e-4850-48fc-8ac8-819310931116",
   "metadata": {
    "tags": []
   },
   "outputs": [],
   "source": [
    "X_train, X_test, y_train, y_test = train_test_split(X, y, \n",
    "                                                    test_size=0.2, \n",
    "                                                    random_state=42)"
   ]
  },
  {
   "cell_type": "markdown",
   "id": "4906dd03-977e-4a61-a137-109b02640802",
   "metadata": {
    "tags": []
   },
   "source": [
    "**Linear Regression**"
   ]
  },
  {
   "cell_type": "code",
   "execution_count": 5,
   "id": "89260f08-9243-4121-8e29-7c06df4cff0b",
   "metadata": {
    "tags": []
   },
   "outputs": [
    {
     "data": {
      "text/html": [
       "<style>#sk-container-id-1 {color: black;}#sk-container-id-1 pre{padding: 0;}#sk-container-id-1 div.sk-toggleable {background-color: white;}#sk-container-id-1 label.sk-toggleable__label {cursor: pointer;display: block;width: 100%;margin-bottom: 0;padding: 0.3em;box-sizing: border-box;text-align: center;}#sk-container-id-1 label.sk-toggleable__label-arrow:before {content: \"▸\";float: left;margin-right: 0.25em;color: #696969;}#sk-container-id-1 label.sk-toggleable__label-arrow:hover:before {color: black;}#sk-container-id-1 div.sk-estimator:hover label.sk-toggleable__label-arrow:before {color: black;}#sk-container-id-1 div.sk-toggleable__content {max-height: 0;max-width: 0;overflow: hidden;text-align: left;background-color: #f0f8ff;}#sk-container-id-1 div.sk-toggleable__content pre {margin: 0.2em;color: black;border-radius: 0.25em;background-color: #f0f8ff;}#sk-container-id-1 input.sk-toggleable__control:checked~div.sk-toggleable__content {max-height: 200px;max-width: 100%;overflow: auto;}#sk-container-id-1 input.sk-toggleable__control:checked~label.sk-toggleable__label-arrow:before {content: \"▾\";}#sk-container-id-1 div.sk-estimator input.sk-toggleable__control:checked~label.sk-toggleable__label {background-color: #d4ebff;}#sk-container-id-1 div.sk-label input.sk-toggleable__control:checked~label.sk-toggleable__label {background-color: #d4ebff;}#sk-container-id-1 input.sk-hidden--visually {border: 0;clip: rect(1px 1px 1px 1px);clip: rect(1px, 1px, 1px, 1px);height: 1px;margin: -1px;overflow: hidden;padding: 0;position: absolute;width: 1px;}#sk-container-id-1 div.sk-estimator {font-family: monospace;background-color: #f0f8ff;border: 1px dotted black;border-radius: 0.25em;box-sizing: border-box;margin-bottom: 0.5em;}#sk-container-id-1 div.sk-estimator:hover {background-color: #d4ebff;}#sk-container-id-1 div.sk-parallel-item::after {content: \"\";width: 100%;border-bottom: 1px solid gray;flex-grow: 1;}#sk-container-id-1 div.sk-label:hover label.sk-toggleable__label {background-color: #d4ebff;}#sk-container-id-1 div.sk-serial::before {content: \"\";position: absolute;border-left: 1px solid gray;box-sizing: border-box;top: 0;bottom: 0;left: 50%;z-index: 0;}#sk-container-id-1 div.sk-serial {display: flex;flex-direction: column;align-items: center;background-color: white;padding-right: 0.2em;padding-left: 0.2em;position: relative;}#sk-container-id-1 div.sk-item {position: relative;z-index: 1;}#sk-container-id-1 div.sk-parallel {display: flex;align-items: stretch;justify-content: center;background-color: white;position: relative;}#sk-container-id-1 div.sk-item::before, #sk-container-id-1 div.sk-parallel-item::before {content: \"\";position: absolute;border-left: 1px solid gray;box-sizing: border-box;top: 0;bottom: 0;left: 50%;z-index: -1;}#sk-container-id-1 div.sk-parallel-item {display: flex;flex-direction: column;z-index: 1;position: relative;background-color: white;}#sk-container-id-1 div.sk-parallel-item:first-child::after {align-self: flex-end;width: 50%;}#sk-container-id-1 div.sk-parallel-item:last-child::after {align-self: flex-start;width: 50%;}#sk-container-id-1 div.sk-parallel-item:only-child::after {width: 0;}#sk-container-id-1 div.sk-dashed-wrapped {border: 1px dashed gray;margin: 0 0.4em 0.5em 0.4em;box-sizing: border-box;padding-bottom: 0.4em;background-color: white;}#sk-container-id-1 div.sk-label label {font-family: monospace;font-weight: bold;display: inline-block;line-height: 1.2em;}#sk-container-id-1 div.sk-label-container {text-align: center;}#sk-container-id-1 div.sk-container {/* jupyter's `normalize.less` sets `[hidden] { display: none; }` but bootstrap.min.css set `[hidden] { display: none !important; }` so we also need the `!important` here to be able to override the default hidden behavior on the sphinx rendered scikit-learn.org. See: https://github.com/scikit-learn/scikit-learn/issues/21755 */display: inline-block !important;position: relative;}#sk-container-id-1 div.sk-text-repr-fallback {display: none;}</style><div id=\"sk-container-id-1\" class=\"sk-top-container\"><div class=\"sk-text-repr-fallback\"><pre>LinearRegression()</pre><b>In a Jupyter environment, please rerun this cell to show the HTML representation or trust the notebook. <br />On GitHub, the HTML representation is unable to render, please try loading this page with nbviewer.org.</b></div><div class=\"sk-container\" hidden><div class=\"sk-item\"><div class=\"sk-estimator sk-toggleable\"><input class=\"sk-toggleable__control sk-hidden--visually\" id=\"sk-estimator-id-1\" type=\"checkbox\" checked><label for=\"sk-estimator-id-1\" class=\"sk-toggleable__label sk-toggleable__label-arrow\">LinearRegression</label><div class=\"sk-toggleable__content\"><pre>LinearRegression()</pre></div></div></div></div></div>"
      ],
      "text/plain": [
       "LinearRegression()"
      ]
     },
     "execution_count": 5,
     "metadata": {},
     "output_type": "execute_result"
    }
   ],
   "source": [
    "lr = LinearRegression()\n",
    "lr.fit(X_train, y_train)"
   ]
  },
  {
   "cell_type": "code",
   "execution_count": 6,
   "id": "c20be706-1130-4b38-a1fc-38cf6b3ce6ad",
   "metadata": {
    "tags": []
   },
   "outputs": [],
   "source": [
    "# Evaluate Linear Regression\n",
    "lr_train_predictions = lr.predict(X_train)\n",
    "lr_test_predictions = lr.predict(X_test)\n",
    "\n",
    "lr_train_rmse = mean_squared_error(y_train, lr_train_predictions, squared=False)\n",
    "lr_test_rmse = mean_squared_error(y_test, lr_test_predictions, squared=False)"
   ]
  },
  {
   "cell_type": "code",
   "execution_count": 7,
   "id": "19239b7d-55fb-4960-acc6-e3a6abc6a564",
   "metadata": {
    "tags": []
   },
   "outputs": [
    {
     "name": "stdout",
     "output_type": "stream",
     "text": [
      "Linear Regression:\n",
      "Train RMSE: 29563.6447\n",
      "Test RMSE: 28339.5874\n"
     ]
    }
   ],
   "source": [
    "print(\"Linear Regression:\")\n",
    "print(f\"Train RMSE: {lr_train_rmse:.4f}\")\n",
    "print(f\"Test RMSE: {lr_test_rmse:.4f}\")\n"
   ]
  },
  {
   "cell_type": "markdown",
   "id": "2776614f-e57e-48a2-9b9c-450b4b869aa6",
   "metadata": {},
   "source": [
    "- The test RMSE is slightly lower than the training RMSE, which suggests that the model generalizes well to new data."
   ]
  },
  {
   "cell_type": "markdown",
   "id": "26d92993-dbc1-40a7-8904-2eac47c3af14",
   "metadata": {},
   "source": [
    "**Lasso Regression**"
   ]
  },
  {
   "cell_type": "code",
   "execution_count": 8,
   "id": "f8ed1f62-12e8-4236-b556-f2e5457a9ef0",
   "metadata": {
    "tags": []
   },
   "outputs": [
    {
     "name": "stderr",
     "output_type": "stream",
     "text": [
      "/Users/aamad_000/anaconda3/lib/python3.11/site-packages/sklearn/linear_model/_coordinate_descent.py:628: ConvergenceWarning: Objective did not converge. You might want to increase the number of iterations, check the scale of the features or consider increasing regularisation. Duality gap: 7.175e+11, tolerance: 1.044e+09\n",
      "  model = cd_fast.enet_coordinate_descent(\n"
     ]
    },
    {
     "data": {
      "text/html": [
       "<style>#sk-container-id-2 {color: black;}#sk-container-id-2 pre{padding: 0;}#sk-container-id-2 div.sk-toggleable {background-color: white;}#sk-container-id-2 label.sk-toggleable__label {cursor: pointer;display: block;width: 100%;margin-bottom: 0;padding: 0.3em;box-sizing: border-box;text-align: center;}#sk-container-id-2 label.sk-toggleable__label-arrow:before {content: \"▸\";float: left;margin-right: 0.25em;color: #696969;}#sk-container-id-2 label.sk-toggleable__label-arrow:hover:before {color: black;}#sk-container-id-2 div.sk-estimator:hover label.sk-toggleable__label-arrow:before {color: black;}#sk-container-id-2 div.sk-toggleable__content {max-height: 0;max-width: 0;overflow: hidden;text-align: left;background-color: #f0f8ff;}#sk-container-id-2 div.sk-toggleable__content pre {margin: 0.2em;color: black;border-radius: 0.25em;background-color: #f0f8ff;}#sk-container-id-2 input.sk-toggleable__control:checked~div.sk-toggleable__content {max-height: 200px;max-width: 100%;overflow: auto;}#sk-container-id-2 input.sk-toggleable__control:checked~label.sk-toggleable__label-arrow:before {content: \"▾\";}#sk-container-id-2 div.sk-estimator input.sk-toggleable__control:checked~label.sk-toggleable__label {background-color: #d4ebff;}#sk-container-id-2 div.sk-label input.sk-toggleable__control:checked~label.sk-toggleable__label {background-color: #d4ebff;}#sk-container-id-2 input.sk-hidden--visually {border: 0;clip: rect(1px 1px 1px 1px);clip: rect(1px, 1px, 1px, 1px);height: 1px;margin: -1px;overflow: hidden;padding: 0;position: absolute;width: 1px;}#sk-container-id-2 div.sk-estimator {font-family: monospace;background-color: #f0f8ff;border: 1px dotted black;border-radius: 0.25em;box-sizing: border-box;margin-bottom: 0.5em;}#sk-container-id-2 div.sk-estimator:hover {background-color: #d4ebff;}#sk-container-id-2 div.sk-parallel-item::after {content: \"\";width: 100%;border-bottom: 1px solid gray;flex-grow: 1;}#sk-container-id-2 div.sk-label:hover label.sk-toggleable__label {background-color: #d4ebff;}#sk-container-id-2 div.sk-serial::before {content: \"\";position: absolute;border-left: 1px solid gray;box-sizing: border-box;top: 0;bottom: 0;left: 50%;z-index: 0;}#sk-container-id-2 div.sk-serial {display: flex;flex-direction: column;align-items: center;background-color: white;padding-right: 0.2em;padding-left: 0.2em;position: relative;}#sk-container-id-2 div.sk-item {position: relative;z-index: 1;}#sk-container-id-2 div.sk-parallel {display: flex;align-items: stretch;justify-content: center;background-color: white;position: relative;}#sk-container-id-2 div.sk-item::before, #sk-container-id-2 div.sk-parallel-item::before {content: \"\";position: absolute;border-left: 1px solid gray;box-sizing: border-box;top: 0;bottom: 0;left: 50%;z-index: -1;}#sk-container-id-2 div.sk-parallel-item {display: flex;flex-direction: column;z-index: 1;position: relative;background-color: white;}#sk-container-id-2 div.sk-parallel-item:first-child::after {align-self: flex-end;width: 50%;}#sk-container-id-2 div.sk-parallel-item:last-child::after {align-self: flex-start;width: 50%;}#sk-container-id-2 div.sk-parallel-item:only-child::after {width: 0;}#sk-container-id-2 div.sk-dashed-wrapped {border: 1px dashed gray;margin: 0 0.4em 0.5em 0.4em;box-sizing: border-box;padding-bottom: 0.4em;background-color: white;}#sk-container-id-2 div.sk-label label {font-family: monospace;font-weight: bold;display: inline-block;line-height: 1.2em;}#sk-container-id-2 div.sk-label-container {text-align: center;}#sk-container-id-2 div.sk-container {/* jupyter's `normalize.less` sets `[hidden] { display: none; }` but bootstrap.min.css set `[hidden] { display: none !important; }` so we also need the `!important` here to be able to override the default hidden behavior on the sphinx rendered scikit-learn.org. See: https://github.com/scikit-learn/scikit-learn/issues/21755 */display: inline-block !important;position: relative;}#sk-container-id-2 div.sk-text-repr-fallback {display: none;}</style><div id=\"sk-container-id-2\" class=\"sk-top-container\"><div class=\"sk-text-repr-fallback\"><pre>Lasso()</pre><b>In a Jupyter environment, please rerun this cell to show the HTML representation or trust the notebook. <br />On GitHub, the HTML representation is unable to render, please try loading this page with nbviewer.org.</b></div><div class=\"sk-container\" hidden><div class=\"sk-item\"><div class=\"sk-estimator sk-toggleable\"><input class=\"sk-toggleable__control sk-hidden--visually\" id=\"sk-estimator-id-2\" type=\"checkbox\" checked><label for=\"sk-estimator-id-2\" class=\"sk-toggleable__label sk-toggleable__label-arrow\">Lasso</label><div class=\"sk-toggleable__content\"><pre>Lasso()</pre></div></div></div></div></div>"
      ],
      "text/plain": [
       "Lasso()"
      ]
     },
     "execution_count": 8,
     "metadata": {},
     "output_type": "execute_result"
    }
   ],
   "source": [
    "lasso = Lasso()\n",
    "lasso.fit(X_train, y_train)"
   ]
  },
  {
   "cell_type": "code",
   "execution_count": 9,
   "id": "e976c229-d729-4a03-99d0-2ce437251782",
   "metadata": {
    "tags": []
   },
   "outputs": [],
   "source": [
    "# Predict/Evaluate Lasso Regression\n",
    "lasso_train_predictions = lasso.predict(X_train)\n",
    "lasso_test_predictions = lasso.predict(X_test)\n",
    "\n",
    "lasso_train_rmse = mean_squared_error(y_train, lasso_train_predictions, squared=False)\n",
    "lasso_test_rmse = mean_squared_error(y_test, lasso_test_predictions, squared=False)"
   ]
  },
  {
   "cell_type": "code",
   "execution_count": 10,
   "id": "a176d778-f6db-4620-9eed-889c66fb4c06",
   "metadata": {
    "tags": []
   },
   "outputs": [
    {
     "name": "stdout",
     "output_type": "stream",
     "text": [
      "Lasso Regression:\n",
      "Train RMSE: 29563.7079\n",
      "Test RMSE: 28336.2118\n"
     ]
    }
   ],
   "source": [
    "print(\"Lasso Regression:\")\n",
    "print(f\"Train RMSE: {lasso_train_rmse:.4f}\")\n",
    "print(f\"Test RMSE: {lasso_test_rmse:.4f}\")\n"
   ]
  },
  {
   "cell_type": "markdown",
   "id": "b3827491-d1df-456a-9d5a-0c5b5d31ac1a",
   "metadata": {},
   "source": [
    "- The RMSE values are close to those of Linear Regression, indicating comparable performance on performing well on unseen data"
   ]
  },
  {
   "cell_type": "markdown",
   "id": "d8c027e2-6e3b-4e0a-9a97-032bd0db600f",
   "metadata": {
    "tags": []
   },
   "source": [
    "**Ridge Regression**"
   ]
  },
  {
   "cell_type": "code",
   "execution_count": 11,
   "id": "8af986ec-86c6-4528-bc23-d2bf3fe3c4df",
   "metadata": {
    "tags": []
   },
   "outputs": [
    {
     "name": "stderr",
     "output_type": "stream",
     "text": [
      "/Users/aamad_000/anaconda3/lib/python3.11/site-packages/sklearn/linear_model/_ridge.py:211: LinAlgWarning: Ill-conditioned matrix (rcond=1.6855e-20): result may not be accurate.\n",
      "  return linalg.solve(A, Xy, assume_a=\"pos\", overwrite_a=True).T\n"
     ]
    },
    {
     "data": {
      "text/html": [
       "<style>#sk-container-id-3 {color: black;}#sk-container-id-3 pre{padding: 0;}#sk-container-id-3 div.sk-toggleable {background-color: white;}#sk-container-id-3 label.sk-toggleable__label {cursor: pointer;display: block;width: 100%;margin-bottom: 0;padding: 0.3em;box-sizing: border-box;text-align: center;}#sk-container-id-3 label.sk-toggleable__label-arrow:before {content: \"▸\";float: left;margin-right: 0.25em;color: #696969;}#sk-container-id-3 label.sk-toggleable__label-arrow:hover:before {color: black;}#sk-container-id-3 div.sk-estimator:hover label.sk-toggleable__label-arrow:before {color: black;}#sk-container-id-3 div.sk-toggleable__content {max-height: 0;max-width: 0;overflow: hidden;text-align: left;background-color: #f0f8ff;}#sk-container-id-3 div.sk-toggleable__content pre {margin: 0.2em;color: black;border-radius: 0.25em;background-color: #f0f8ff;}#sk-container-id-3 input.sk-toggleable__control:checked~div.sk-toggleable__content {max-height: 200px;max-width: 100%;overflow: auto;}#sk-container-id-3 input.sk-toggleable__control:checked~label.sk-toggleable__label-arrow:before {content: \"▾\";}#sk-container-id-3 div.sk-estimator input.sk-toggleable__control:checked~label.sk-toggleable__label {background-color: #d4ebff;}#sk-container-id-3 div.sk-label input.sk-toggleable__control:checked~label.sk-toggleable__label {background-color: #d4ebff;}#sk-container-id-3 input.sk-hidden--visually {border: 0;clip: rect(1px 1px 1px 1px);clip: rect(1px, 1px, 1px, 1px);height: 1px;margin: -1px;overflow: hidden;padding: 0;position: absolute;width: 1px;}#sk-container-id-3 div.sk-estimator {font-family: monospace;background-color: #f0f8ff;border: 1px dotted black;border-radius: 0.25em;box-sizing: border-box;margin-bottom: 0.5em;}#sk-container-id-3 div.sk-estimator:hover {background-color: #d4ebff;}#sk-container-id-3 div.sk-parallel-item::after {content: \"\";width: 100%;border-bottom: 1px solid gray;flex-grow: 1;}#sk-container-id-3 div.sk-label:hover label.sk-toggleable__label {background-color: #d4ebff;}#sk-container-id-3 div.sk-serial::before {content: \"\";position: absolute;border-left: 1px solid gray;box-sizing: border-box;top: 0;bottom: 0;left: 50%;z-index: 0;}#sk-container-id-3 div.sk-serial {display: flex;flex-direction: column;align-items: center;background-color: white;padding-right: 0.2em;padding-left: 0.2em;position: relative;}#sk-container-id-3 div.sk-item {position: relative;z-index: 1;}#sk-container-id-3 div.sk-parallel {display: flex;align-items: stretch;justify-content: center;background-color: white;position: relative;}#sk-container-id-3 div.sk-item::before, #sk-container-id-3 div.sk-parallel-item::before {content: \"\";position: absolute;border-left: 1px solid gray;box-sizing: border-box;top: 0;bottom: 0;left: 50%;z-index: -1;}#sk-container-id-3 div.sk-parallel-item {display: flex;flex-direction: column;z-index: 1;position: relative;background-color: white;}#sk-container-id-3 div.sk-parallel-item:first-child::after {align-self: flex-end;width: 50%;}#sk-container-id-3 div.sk-parallel-item:last-child::after {align-self: flex-start;width: 50%;}#sk-container-id-3 div.sk-parallel-item:only-child::after {width: 0;}#sk-container-id-3 div.sk-dashed-wrapped {border: 1px dashed gray;margin: 0 0.4em 0.5em 0.4em;box-sizing: border-box;padding-bottom: 0.4em;background-color: white;}#sk-container-id-3 div.sk-label label {font-family: monospace;font-weight: bold;display: inline-block;line-height: 1.2em;}#sk-container-id-3 div.sk-label-container {text-align: center;}#sk-container-id-3 div.sk-container {/* jupyter's `normalize.less` sets `[hidden] { display: none; }` but bootstrap.min.css set `[hidden] { display: none !important; }` so we also need the `!important` here to be able to override the default hidden behavior on the sphinx rendered scikit-learn.org. See: https://github.com/scikit-learn/scikit-learn/issues/21755 */display: inline-block !important;position: relative;}#sk-container-id-3 div.sk-text-repr-fallback {display: none;}</style><div id=\"sk-container-id-3\" class=\"sk-top-container\"><div class=\"sk-text-repr-fallback\"><pre>Ridge()</pre><b>In a Jupyter environment, please rerun this cell to show the HTML representation or trust the notebook. <br />On GitHub, the HTML representation is unable to render, please try loading this page with nbviewer.org.</b></div><div class=\"sk-container\" hidden><div class=\"sk-item\"><div class=\"sk-estimator sk-toggleable\"><input class=\"sk-toggleable__control sk-hidden--visually\" id=\"sk-estimator-id-3\" type=\"checkbox\" checked><label for=\"sk-estimator-id-3\" class=\"sk-toggleable__label sk-toggleable__label-arrow\">Ridge</label><div class=\"sk-toggleable__content\"><pre>Ridge()</pre></div></div></div></div></div>"
      ],
      "text/plain": [
       "Ridge()"
      ]
     },
     "execution_count": 11,
     "metadata": {},
     "output_type": "execute_result"
    }
   ],
   "source": [
    "ridge = Ridge()\n",
    "ridge.fit(X_train, y_train)"
   ]
  },
  {
   "cell_type": "code",
   "execution_count": 12,
   "id": "6a9be110-d1ab-46a9-ba04-70e61e5d4a9f",
   "metadata": {
    "tags": []
   },
   "outputs": [],
   "source": [
    "ridge_train_predictions = ridge.predict(X_train)\n",
    "ridge_test_predictions = ridge.predict(X_test)\n",
    "\n",
    "ridge_train_rmse = mean_squared_error(y_train, ridge_train_predictions, squared=False)\n",
    "ridge_test_rmse = mean_squared_error(y_test, ridge_test_predictions, squared=False)"
   ]
  },
  {
   "cell_type": "code",
   "execution_count": 13,
   "id": "1ef5f7d0-bdc9-49a1-8548-1dab3f521a6f",
   "metadata": {
    "tags": []
   },
   "outputs": [
    {
     "name": "stdout",
     "output_type": "stream",
     "text": [
      "Ridge Regression:\n",
      "Train RMSE: 29593.6042\n",
      "Test RMSE: 28294.3983\n"
     ]
    }
   ],
   "source": [
    "print(\"Ridge Regression:\")\n",
    "print(f\"Train RMSE: {ridge_train_rmse:.4f}\")\n",
    "print(f\"Test RMSE: {ridge_test_rmse:.4f}\")\n"
   ]
  },
  {
   "cell_type": "markdown",
   "id": "3dda63cc-8efb-4ef9-b790-b1525015fbe5",
   "metadata": {},
   "source": [
    "- Compared to Linear and Lasso, predictions are slightly higher which indicates that the Ridge Regression model may not generalize as well to unseen data as Linear and Lasso Regression. Moreover,the Ridge Regression's predictions on the training set are also slightly higher in terms of rmse, which mean that this model is fitting the training data less closely. "
   ]
  },
  {
   "cell_type": "markdown",
   "id": "d115be7c-6dc2-4e6b-bc51-0d7ffebb5f73",
   "metadata": {
    "tags": []
   },
   "source": [
    "---\n",
    "\n",
    "### Model Evaluation Metric"
   ]
  },
  {
   "cell_type": "markdown",
   "id": "3c2515fc-27a5-40e6-9b20-bc6fcf80bf14",
   "metadata": {},
   "source": [
    "**Linear Regression Metric**"
   ]
  },
  {
   "cell_type": "code",
   "execution_count": 14,
   "id": "cbbbb53d-6dc4-4d5a-b767-6ca39d83bf36",
   "metadata": {
    "tags": []
   },
   "outputs": [],
   "source": [
    "# Calculate and print evaluation metrics for lr\n",
    "mae_lr = mean_absolute_error(y_test, lr.predict(X_test))\n",
    "mse_lr = mean_squared_error(y_test, lr.predict(X_test))\n",
    "r2_lr = r2_score(y_test, lr.predict(X_test))"
   ]
  },
  {
   "cell_type": "code",
   "execution_count": 15,
   "id": "81ab122c-c7b2-4a16-ae25-b995dcc1fa3c",
   "metadata": {
    "tags": []
   },
   "outputs": [
    {
     "name": "stdout",
     "output_type": "stream",
     "text": [
      "MAE: 20278.8879, MSE: 803132213.9853, R²: 0.8648\n"
     ]
    }
   ],
   "source": [
    "print(f'MAE: {mae_lr:.4f}, MSE: {mse_lr:.4f}, R²: {r2_lr:.4f}')"
   ]
  },
  {
   "cell_type": "markdown",
   "id": "18fe8a74-b361-4fb5-a189-13a774d564c8",
   "metadata": {},
   "source": [
    "**Lasso Regression Metric**"
   ]
  },
  {
   "cell_type": "code",
   "execution_count": 16,
   "id": "90898093-26a8-497a-b3e3-b290ac9c2617",
   "metadata": {
    "tags": []
   },
   "outputs": [],
   "source": [
    "# Calculate and print evaluation metrics for lasso\n",
    "mae_lasso = mean_absolute_error(y_test, lasso.predict(X_test))\n",
    "mse_lasso = mean_squared_error(y_test, lasso.predict(X_test))\n",
    "r2_lasso = r2_score(y_test, lasso.predict(X_test))"
   ]
  },
  {
   "cell_type": "code",
   "execution_count": 17,
   "id": "34fea900-e731-4b1b-8130-9e8c501d080f",
   "metadata": {
    "tags": []
   },
   "outputs": [
    {
     "name": "stdout",
     "output_type": "stream",
     "text": [
      "MAE: 20280.1919, MSE: 802940901.0642, R²: 0.8649\n"
     ]
    }
   ],
   "source": [
    "print(f'MAE: {mae_lasso:.4f}, MSE: {mse_lasso:.4f}, R²: {r2_lasso:.4f}')"
   ]
  },
  {
   "cell_type": "markdown",
   "id": "7db7cd30-2230-4356-8431-be17c52df487",
   "metadata": {},
   "source": [
    "**Ridge Regression Metric**"
   ]
  },
  {
   "cell_type": "code",
   "execution_count": 18,
   "id": "812bf10d-1ea4-4037-a8fb-d1e14217ca83",
   "metadata": {
    "tags": []
   },
   "outputs": [],
   "source": [
    "# Calculate and print evaluation metrics for Ridge\n",
    "mse_train_ridge = mean_squared_error(y_train, ridge.predict(X_train))\n",
    "mae_ridge = mean_absolute_error(y_test, ridge.predict(X_test))\n",
    "mse_ridge = mean_squared_error(y_test, ridge.predict(X_test))\n",
    "r2_ridge = r2_score(y_test, ridge.predict(X_test))"
   ]
  },
  {
   "cell_type": "code",
   "execution_count": 19,
   "id": "a1b0aa8f-ebae-4f9f-ad19-7629b54b7ec5",
   "metadata": {
    "tags": []
   },
   "outputs": [
    {
     "name": "stdout",
     "output_type": "stream",
     "text": [
      "MAE: 20277.9923, MSE: 800572975.7018, MSETrain: 875781409.2956297, R²: 0.8653\n"
     ]
    }
   ],
   "source": [
    "print(f'MAE: {mae_ridge:.4f}, MSE: {mse_ridge:.4f}, MSETrain: {mse_train_ridge}, R²: {r2_ridge:.4f}')"
   ]
  },
  {
   "cell_type": "markdown",
   "id": "d589e33f-fd89-40fd-8671-efcbc2223240",
   "metadata": {},
   "source": [
    "**Summary:**\n",
    "\n",
    "The following metrics provide an overview of the performance of each baseline model. The lower the MAE and MSE, and the higher the R², the better the model's performance. In this summary, all models perform relatively well. R² value of 0.8648(lr), 0.8649(lasso),  0.8653(ridge) indicates that the model explains a significant portion of the variance in the target variable, with Ridge Regression having the slightly better R² value among the three. This suggests that Ridge Regression model may be better suited for predicting house price, as the R2 value is an important factor in determining how well a model can accurately predict results. However, for generalizability Lasso and Linear is more suited. But all model, does well and there are only slight differences between each model.\n",
    "\n",
    "The next notebook will fine-tune the models and explore the impact of hyperparameter tuning. In particular optimize hyperparameters for Lasso and Ridge regression models to find the best regularization strength and investigate the creation of new features based on domain knowledge\n"
   ]
  },
  {
   "cell_type": "code",
   "execution_count": 20,
   "id": "fe5950e8-6a19-4816-a406-3337e9f0c8e6",
   "metadata": {},
   "outputs": [],
   "source": [
    "# # Save preprocessed data to a CSV file\n",
    "# df_cleaned.to_csv('../data/test_clean3.csv', index=False) "
   ]
  },
  {
   "cell_type": "code",
   "execution_count": null,
   "id": "dd2e656e-8a3f-4fc9-82e1-d963e5bb59c6",
   "metadata": {},
   "outputs": [],
   "source": []
  },
  {
   "cell_type": "code",
   "execution_count": null,
   "id": "83980c1f-0076-46da-8c84-4ea58f77d5f9",
   "metadata": {},
   "outputs": [],
   "source": []
  },
  {
   "cell_type": "code",
   "execution_count": null,
   "id": "37ec3a25-404b-4aed-854c-2a16f1b3f596",
   "metadata": {
    "jupyter": {
     "source_hidden": true
    },
    "tags": []
   },
   "outputs": [],
   "source": []
  }
 ],
 "metadata": {
  "kernelspec": {
   "display_name": "Python 3 (ipykernel)",
   "language": "python",
   "name": "python3"
  },
  "language_info": {
   "codemirror_mode": {
    "name": "ipython",
    "version": 3
   },
   "file_extension": ".py",
   "mimetype": "text/x-python",
   "name": "python",
   "nbconvert_exporter": "python",
   "pygments_lexer": "ipython3",
   "version": "3.11.5"
  }
 },
 "nbformat": 4,
 "nbformat_minor": 5
}
