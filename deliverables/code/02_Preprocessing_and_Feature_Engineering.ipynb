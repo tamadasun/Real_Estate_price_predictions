{
 "cells": [
  {
   "cell_type": "markdown",
   "id": "c6ca99ac-15f6-42f1-bf44-af3e8c78c2ee",
   "metadata": {},
   "source": [
    "# Pre-processing and Feature Engineering"
   ]
  },
  {
   "cell_type": "markdown",
   "id": "83bb0343-2095-4190-af31-dd3a65b4ac59",
   "metadata": {},
   "source": [
    "Anthony Amadasun\n",
    "\n",
    "December 15th 20223"
   ]
  },
  {
   "cell_type": "markdown",
   "id": "333706fb-bdea-4292-b248-18556cf9c855",
   "metadata": {},
   "source": [
    "---\n",
    "\n",
    "### Introduction\n",
    "\n",
    "\n",
    "This section referred to as preprocessing and feature engineering prepares the data for modeling and also enhance its predictive capabilities. These critical step ensures that the data aligns with the requirements of understanding the factors influencing housing property prices. The following key aspects will be addressed: \n",
    "\n",
    "- Categorical Variable Transformation = implement one-hot encoding for categorical variables\n",
    "- Data Scaling = apply appropriate scaling techniques to the data. \n",
    "- Data Splitting and Sampling = split the dataset into training and validation sets, \n",
    "- Feature selection = to identify and eliminate noisy or multicollinear features"
   ]
  },
  {
   "cell_type": "markdown",
   "id": "343cfbaf-c26d-498d-a9fc-ff3d9ad5a9f1",
   "metadata": {},
   "source": [
    "---\n",
    "\n",
    "### Importing Libraries"
   ]
  },
  {
   "cell_type": "code",
   "execution_count": 1,
   "id": "6609004a-463e-46b9-9c33-91a1fda8b4f0",
   "metadata": {
    "tags": []
   },
   "outputs": [],
   "source": [
    "import pandas as pd\n",
    "import numpy as np\n",
    "import seaborn as sns\n",
    "import matplotlib as plt\n",
    "\n",
    "\n",
    "from sklearn.linear_model import LinearRegression, Ridge, RidgeCV, Lasso, LassoCV\n",
    "from sklearn.model_selection import train_test_split, cross_val_score\n",
    "from sklearn.preprocessing import StandardScaler, PolynomialFeatures"
   ]
  },
  {
   "cell_type": "markdown",
   "id": "4096f542-61d4-4cf9-98e6-0e04f49bd0a1",
   "metadata": {
    "tags": []
   },
   "source": [
    "---\n",
    "\n",
    "### Load in Data"
   ]
  },
  {
   "cell_type": "code",
   "execution_count": 2,
   "id": "49b775ae-bca8-491e-9f36-d12f09c7c270",
   "metadata": {
    "tags": []
   },
   "outputs": [],
   "source": [
    "# # read in both csvs\n",
    "\n",
    "df_cleaned = pd.read_csv('../data/test_clean.csv')\n",
    "file_path_train = '../data/train.csv'\n",
    "df_train = pd.read_csv(file_path_train)"
   ]
  },
  {
   "cell_type": "markdown",
   "id": "e2d22b42-3c9c-4518-a588-cea94386814f",
   "metadata": {},
   "source": [
    "---\n",
    "\n",
    "### Pre-Proccessing"
   ]
  },
  {
   "cell_type": "markdown",
   "id": "d732273e-d999-4752-b903-37fb1d26fcc2",
   "metadata": {},
   "source": [
    "**One hot encoding**"
   ]
  },
  {
   "cell_type": "markdown",
   "id": "5859e5e6-9afe-476d-bbdd-9877241a0064",
   "metadata": {
    "tags": []
   },
   "source": [
    "The decision on which categorical feature to one-hot encode will depend mostly on domanin knowledge, the number of unique categories, and the potential impact on the model. Only the  Neighborhood column will be One hot encoded for the reason to not introduce too many features, which could lead to the curse of dimensionality. Based on domain knowledge, the Neighborhood which a property is located can significantly influence its price. Different neighborhoods may have different amenities, safety levels, school districts, and overall desirability, all of which can impact property values. As such, that influenced my decision to select this column to encode. \n",
    "\n",
    "Based on the data dictionary the neighbordhood column has 28 neighborhoods, which are: 'Sawyer', 'SawyerW', 'NAmes', 'Timber', 'Edwards', 'OldTown','BrDale', 'CollgCr', 'Somerst', 'Mitchel', 'StoneBr', 'NridgHt','Gilbert', 'Crawfor', 'IDOTRR', 'NWAmes', 'Veenker', 'MeadowV','SWISU', 'NoRidge', 'ClearCr', 'Blmngtn', 'BrkSide', 'NPkVill','Blueste', 'GrnHill', 'Greens', 'Landmrk'\n",
    "\n",
    "- Blmngtn = Bloomington Heights\n",
    "- Blueste = Bluestem\n",
    "- BrDale = Briardale\n",
    "- BrkSide = Brookside\n",
    "- ClearCr = Clear Creek\n",
    "- CollgCr = College Creek\n",
    "- Crawfor = Crawford\n",
    "- Edwards = Edwards\n",
    "- Gilbert = Gilbert\n",
    "- Greens = Greens\n",
    "- GrnHill = Green Hills\n",
    "- IDOTRR = Iowa DOT and Rail Road\n",
    "- Landmrk = Landmark\n",
    "- MeadowV = Meadow Village\n",
    "- Mitchel = Mitchell\n",
    "- NAmes = North Ames\n",
    "- NoRidge = Northridge\n",
    "- NPkVill = Northpark Villa\n",
    "- NridgHt = Northridge Heights\n",
    "- NWAmes = Northwest Ames\n",
    "- OldTown = Old Town\n",
    "- SWISU = South & West of Iowa State University\n",
    "- Sawyer = Sawyer\n",
    "- SawyerW = Sawyer West\n",
    "- Somerst = Somerset\n",
    "- StoneBr = Stone Brook\n",
    "- Timber = Timberland\n",
    "- Veenker = Veenker"
   ]
  },
  {
   "cell_type": "code",
   "execution_count": 3,
   "id": "84fb609b-c04d-4cc5-aad3-64f2bb0cf4e7",
   "metadata": {
    "tags": []
   },
   "outputs": [
    {
     "data": {
      "text/plain": [
       "array(['Sawyer', 'SawyerW', 'NAmes', 'Timber', 'Edwards', 'OldTown',\n",
       "       'BrDale', 'CollgCr', 'Somerst', 'Mitchel', 'StoneBr', 'NridgHt',\n",
       "       'Gilbert', 'Crawfor', 'IDOTRR', 'NWAmes', 'Veenker', 'MeadowV',\n",
       "       'SWISU', 'NoRidge', 'ClearCr', 'Blmngtn', 'BrkSide', 'NPkVill',\n",
       "       'Blueste', 'GrnHill', 'Greens', 'Landmrk'], dtype=object)"
      ]
     },
     "execution_count": 3,
     "metadata": {},
     "output_type": "execute_result"
    }
   ],
   "source": [
    "unique_neighborhoods = df_train['Neighborhood'].unique()\n",
    "unique_neighborhoods"
   ]
  },
  {
   "cell_type": "code",
   "execution_count": 4,
   "id": "9c4a13b3-5841-4718-99a2-d23e5ac731da",
   "metadata": {
    "tags": []
   },
   "outputs": [
    {
     "data": {
      "text/plain": [
       "28"
      ]
     },
     "execution_count": 4,
     "metadata": {},
     "output_type": "execute_result"
    }
   ],
   "source": [
    "len(unique_neighborhoods)"
   ]
  },
  {
   "cell_type": "markdown",
   "id": "b9abae8e-81cf-40c5-a12c-138d8e21f195",
   "metadata": {},
   "source": [
    "**Feature selection**"
   ]
  },
  {
   "cell_type": "markdown",
   "id": "8d539951-338f-4343-9709-b25597011e5c",
   "metadata": {},
   "source": [
    "The following features BsmtFin_SF_1', 'BsmtFin_SF_2', 'Bsmt_Unf_SF', 'Total_Bsmt_SF',1st_Flr_SF', '2nd_Flr_SF', and 'Low_Qual_Fin_SF' shows signs of multicollinearity, so they wont be used to predict target variable. An interaction term between 'Bsmt Full Bath', 'Bsmt Half Bath', 'Full Bath', and 'Half Bath' was created and the original columns were dropped as they do not serve much purpose to the models goal"
   ]
  },
  {
   "cell_type": "code",
   "execution_count": 5,
   "id": "53281c6d-1dad-4980-9b2d-d8c1f8b53c70",
   "metadata": {
    "tags": []
   },
   "outputs": [],
   "source": [
    "#create interaction term to reduce dimensionality\n",
    "df_cleaned['interaction_total_bathrooms'] = (df_cleaned['Bsmt_Full_Bath'] + df_cleaned['Full_Bath'] +\n",
    "    0.5 * (df_cleaned['Bsmt_Half_Bath'] + df_cleaned['Half_Bath'])\n",
    ")\n",
    "\n",
    "# Drop original columns\n",
    "df_cleaned.drop(['Bsmt_Full_Bath', 'Bsmt_Half_Bath', 'Full_Bath', \n",
    "                 'Half_Bath', 'BsmtFin_SF_1', 'BsmtFin_SF_2', \n",
    "                 'Bsmt_Unf_SF', 'Total_Bsmt_SF', '1st_Flr_SF', \n",
    "                 '2nd_Flr_SF', 'Low_Qual_Fin_SF'], axis=1, inplace=True)\n",
    "\n"
   ]
  },
  {
   "cell_type": "markdown",
   "id": "ce405dd1-f916-4f7c-b378-8c5b0285a339",
   "metadata": {
    "tags": []
   },
   "source": [
    "**Data Splitting and Sampling**"
   ]
  },
  {
   "cell_type": "code",
   "execution_count": 6,
   "id": "a021c9b3-8879-4b57-b225-a5ea43b76025",
   "metadata": {
    "tags": []
   },
   "outputs": [],
   "source": [
    "X = df_cleaned.select_dtypes(include=['float64', 'int64']).drop('SalePrice', axis=1)\n",
    "y = df_cleaned['SalePrice']"
   ]
  },
  {
   "cell_type": "code",
   "execution_count": 7,
   "id": "2122e2b1-3921-4798-9313-8832dcf26801",
   "metadata": {
    "tags": []
   },
   "outputs": [],
   "source": [
    "X_train, X_test, y_train, y_test = train_test_split(X, y, \n",
    "                                                    test_size=0.2, \n",
    "                                                    random_state=42)"
   ]
  },
  {
   "cell_type": "markdown",
   "id": "4b2a824f-d639-4b05-919d-784faf21ef2a",
   "metadata": {
    "tags": []
   },
   "source": [
    "**Data Scaling**"
   ]
  },
  {
   "cell_type": "code",
   "execution_count": 8,
   "id": "3d618d05-46f1-4fb3-80e4-cebadc664ced",
   "metadata": {
    "tags": []
   },
   "outputs": [],
   "source": [
    "# Scale our data.\n",
    "scaler = StandardScaler()\n",
    "\n",
    "# Fit/transform from training to learn mean, stdev. \n",
    "#and then transform both using things learned from training\n",
    "Z_train = scaler.fit_transform(X_train)\n",
    "Z_test = scaler.transform(X_test)"
   ]
  },
  {
   "cell_type": "code",
   "execution_count": 9,
   "id": "eb84eab6-31ba-422e-aa50-fc151e68f3bc",
   "metadata": {
    "tags": []
   },
   "outputs": [
    {
     "name": "stdout",
     "output_type": "stream",
     "text": [
      "Z_train shape is: (1640, 56)\n",
      "y_train shape is: (1640,)\n",
      "Z_test shape is: (411, 56)\n",
      "y_test shape is: (411,)\n"
     ]
    }
   ],
   "source": [
    "print(f'Z_train shape is: {Z_train.shape}')\n",
    "print(f'y_train shape is: {y_train.shape}')\n",
    "print(f'Z_test shape is: {Z_test.shape}')\n",
    "print(f'y_test shape is: {y_test.shape}')"
   ]
  },
  {
   "cell_type": "markdown",
   "id": "b8c6b854-6185-4848-857e-b3f31c4a5e51",
   "metadata": {},
   "source": [
    "- After scaling our training set (Z_train) has 1640 samples (rows) and 66 features (columns). \n",
    "-  The target vector for the training set (y_train) has 1640 values\n",
    "- After scaling, the testing set (Z_test) has 411 samples and 66 features after scaling.\n",
    "-  Thettarget vector for the testing set (y_test) has 411 values."
   ]
  },
  {
   "cell_type": "markdown",
   "id": "b0571793-a193-4678-990b-45be0ee5d9c3",
   "metadata": {},
   "source": [
    "**OLS**"
   ]
  },
  {
   "cell_type": "code",
   "execution_count": 10,
   "id": "6a32a7a3-3202-40b1-a9db-b14a5b2ba1ee",
   "metadata": {
    "tags": []
   },
   "outputs": [
    {
     "data": {
      "text/html": [
       "<style>#sk-container-id-1 {color: black;}#sk-container-id-1 pre{padding: 0;}#sk-container-id-1 div.sk-toggleable {background-color: white;}#sk-container-id-1 label.sk-toggleable__label {cursor: pointer;display: block;width: 100%;margin-bottom: 0;padding: 0.3em;box-sizing: border-box;text-align: center;}#sk-container-id-1 label.sk-toggleable__label-arrow:before {content: \"▸\";float: left;margin-right: 0.25em;color: #696969;}#sk-container-id-1 label.sk-toggleable__label-arrow:hover:before {color: black;}#sk-container-id-1 div.sk-estimator:hover label.sk-toggleable__label-arrow:before {color: black;}#sk-container-id-1 div.sk-toggleable__content {max-height: 0;max-width: 0;overflow: hidden;text-align: left;background-color: #f0f8ff;}#sk-container-id-1 div.sk-toggleable__content pre {margin: 0.2em;color: black;border-radius: 0.25em;background-color: #f0f8ff;}#sk-container-id-1 input.sk-toggleable__control:checked~div.sk-toggleable__content {max-height: 200px;max-width: 100%;overflow: auto;}#sk-container-id-1 input.sk-toggleable__control:checked~label.sk-toggleable__label-arrow:before {content: \"▾\";}#sk-container-id-1 div.sk-estimator input.sk-toggleable__control:checked~label.sk-toggleable__label {background-color: #d4ebff;}#sk-container-id-1 div.sk-label input.sk-toggleable__control:checked~label.sk-toggleable__label {background-color: #d4ebff;}#sk-container-id-1 input.sk-hidden--visually {border: 0;clip: rect(1px 1px 1px 1px);clip: rect(1px, 1px, 1px, 1px);height: 1px;margin: -1px;overflow: hidden;padding: 0;position: absolute;width: 1px;}#sk-container-id-1 div.sk-estimator {font-family: monospace;background-color: #f0f8ff;border: 1px dotted black;border-radius: 0.25em;box-sizing: border-box;margin-bottom: 0.5em;}#sk-container-id-1 div.sk-estimator:hover {background-color: #d4ebff;}#sk-container-id-1 div.sk-parallel-item::after {content: \"\";width: 100%;border-bottom: 1px solid gray;flex-grow: 1;}#sk-container-id-1 div.sk-label:hover label.sk-toggleable__label {background-color: #d4ebff;}#sk-container-id-1 div.sk-serial::before {content: \"\";position: absolute;border-left: 1px solid gray;box-sizing: border-box;top: 0;bottom: 0;left: 50%;z-index: 0;}#sk-container-id-1 div.sk-serial {display: flex;flex-direction: column;align-items: center;background-color: white;padding-right: 0.2em;padding-left: 0.2em;position: relative;}#sk-container-id-1 div.sk-item {position: relative;z-index: 1;}#sk-container-id-1 div.sk-parallel {display: flex;align-items: stretch;justify-content: center;background-color: white;position: relative;}#sk-container-id-1 div.sk-item::before, #sk-container-id-1 div.sk-parallel-item::before {content: \"\";position: absolute;border-left: 1px solid gray;box-sizing: border-box;top: 0;bottom: 0;left: 50%;z-index: -1;}#sk-container-id-1 div.sk-parallel-item {display: flex;flex-direction: column;z-index: 1;position: relative;background-color: white;}#sk-container-id-1 div.sk-parallel-item:first-child::after {align-self: flex-end;width: 50%;}#sk-container-id-1 div.sk-parallel-item:last-child::after {align-self: flex-start;width: 50%;}#sk-container-id-1 div.sk-parallel-item:only-child::after {width: 0;}#sk-container-id-1 div.sk-dashed-wrapped {border: 1px dashed gray;margin: 0 0.4em 0.5em 0.4em;box-sizing: border-box;padding-bottom: 0.4em;background-color: white;}#sk-container-id-1 div.sk-label label {font-family: monospace;font-weight: bold;display: inline-block;line-height: 1.2em;}#sk-container-id-1 div.sk-label-container {text-align: center;}#sk-container-id-1 div.sk-container {/* jupyter's `normalize.less` sets `[hidden] { display: none; }` but bootstrap.min.css set `[hidden] { display: none !important; }` so we also need the `!important` here to be able to override the default hidden behavior on the sphinx rendered scikit-learn.org. See: https://github.com/scikit-learn/scikit-learn/issues/21755 */display: inline-block !important;position: relative;}#sk-container-id-1 div.sk-text-repr-fallback {display: none;}</style><div id=\"sk-container-id-1\" class=\"sk-top-container\"><div class=\"sk-text-repr-fallback\"><pre>LinearRegression()</pre><b>In a Jupyter environment, please rerun this cell to show the HTML representation or trust the notebook. <br />On GitHub, the HTML representation is unable to render, please try loading this page with nbviewer.org.</b></div><div class=\"sk-container\" hidden><div class=\"sk-item\"><div class=\"sk-estimator sk-toggleable\"><input class=\"sk-toggleable__control sk-hidden--visually\" id=\"sk-estimator-id-1\" type=\"checkbox\" checked><label for=\"sk-estimator-id-1\" class=\"sk-toggleable__label sk-toggleable__label-arrow\">LinearRegression</label><div class=\"sk-toggleable__content\"><pre>LinearRegression()</pre></div></div></div></div></div>"
      ],
      "text/plain": [
       "LinearRegression()"
      ]
     },
     "execution_count": 10,
     "metadata": {},
     "output_type": "execute_result"
    }
   ],
   "source": [
    "ols = LinearRegression()\n",
    "\n",
    "ols.fit(Z_train, y_train)"
   ]
  },
  {
   "cell_type": "code",
   "execution_count": 11,
   "id": "ffd362d7-40fe-40de-b001-f4092026d34e",
   "metadata": {
    "tags": []
   },
   "outputs": [
    {
     "name": "stdout",
     "output_type": "stream",
     "text": [
      "Training Score: 0.8626\n",
      "Testing Score: 0.8648\n"
     ]
    }
   ],
   "source": [
    "# How does the model score on the training and test data?\n",
    "print(f'Training Score: {ols.score(Z_train, y_train):.4f}')\n",
    "print(f'Testing Score: {ols.score(Z_test, y_test):.4f}')"
   ]
  },
  {
   "cell_type": "markdown",
   "id": "28abfb93-e7a6-49ef-9b9a-12fd776509c6",
   "metadata": {},
   "source": [
    "- This linear regression model explains approximately 86.78% of the variance in the training set. It proposes that the model fits the training data quite well.\n",
    "\n",
    "- The linear regression model also performs well on the testing set, explaining approximately 87.80% of the variance.\n",
    "\n",
    "- The testing score is close to the training score, which means that the model generalize well to unseen data, which was one of the objective of this project\n",
    "\n"
   ]
  },
  {
   "cell_type": "markdown",
   "id": "e72e0174-5d5d-4d70-83b6-05dbc7071b5d",
   "metadata": {},
   "source": [
    "**Ridge**"
   ]
  },
  {
   "cell_type": "code",
   "execution_count": 12,
   "id": "20468df0-16ad-4a0a-94ac-c36c12ac2734",
   "metadata": {
    "tags": []
   },
   "outputs": [
    {
     "name": "stdout",
     "output_type": "stream",
     "text": [
      "Training Score: 0.862644153789303\n",
      "Testing Score: 0.8648262562083273\n"
     ]
    }
   ],
   "source": [
    "# Instantiate, with default value of alpha (1)\n",
    "ridge = Ridge()\n",
    "# Fit.\n",
    "ridge.fit(Z_train, y_train)\n",
    "# Evaluate model using R2.\n",
    "print(f'Training Score: {ridge.score(Z_train, y_train)}')\n",
    "print(f'Testing Score: {ridge.score(Z_test, y_test)}')"
   ]
  },
  {
   "cell_type": "code",
   "execution_count": 13,
   "id": "b0564f8d-75ac-4661-a4c3-0aa425fd4371",
   "metadata": {
    "tags": []
   },
   "outputs": [
    {
     "name": "stdout",
     "output_type": "stream",
     "text": [
      "Training Score: 0.8616662821930666\n",
      "Testing Score: 0.86419540362334\n"
     ]
    }
   ],
   "source": [
    "# Instantiate, with default value of alpha (100)\n",
    "ridge = Ridge(alpha=100)\n",
    "# Fit.\n",
    "ridge.fit(Z_train, y_train)\n",
    "# Evaluate model using R2.\n",
    "print(f'Training Score: {ridge.score(Z_train, y_train)}')\n",
    "print(f'Testing Score: {ridge.score(Z_test, y_test)}')"
   ]
  },
  {
   "cell_type": "code",
   "execution_count": 14,
   "id": "ef67f8ef-d038-4fbd-99e8-54530c2b9b35",
   "metadata": {
    "tags": []
   },
   "outputs": [
    {
     "name": "stdout",
     "output_type": "stream",
     "text": [
      "Training Score: 0.8371002447600637\n",
      "Testing Score: 0.8477999290316912\n"
     ]
    }
   ],
   "source": [
    "# Instantiate, with default value of alpha (1000)\n",
    "ridge = Ridge(alpha=1000)\n",
    "# Fit.\n",
    "ridge.fit(Z_train, y_train)\n",
    "# Evaluate model using R2.\n",
    "print(f'Training Score: {ridge.score(Z_train, y_train)}')\n",
    "print(f'Testing Score: {ridge.score(Z_test, y_test)}')"
   ]
  },
  {
   "cell_type": "code",
   "execution_count": 15,
   "id": "8ca75914-a816-46a1-8171-4fcebf0063e8",
   "metadata": {
    "tags": []
   },
   "outputs": [
    {
     "name": "stdout",
     "output_type": "stream",
     "text": [
      "Training Score: 0.6034463527676546\n",
      "Testing Score: 0.6127791060322482\n"
     ]
    }
   ],
   "source": [
    "# Instantiate, with default value of alpha (10_000)\n",
    "ridge = Ridge(alpha=10_000)\n",
    "# Fit.\n",
    "ridge.fit(Z_train, y_train)\n",
    "# Evaluate model using R2.\n",
    "print(f'Training Score: {ridge.score(Z_train, y_train)}')\n",
    "print(f'Testing Score: {ridge.score(Z_test, y_test)}')"
   ]
  },
  {
   "cell_type": "code",
   "execution_count": 16,
   "id": "85ff94b7-ae01-498f-a5b7-d52d858c1adf",
   "metadata": {
    "tags": []
   },
   "outputs": [
    {
     "name": "stdout",
     "output_type": "stream",
     "text": [
      "Training Score: 0.862558578927491\n",
      "Testing Score: 0.865103393519378\n"
     ]
    }
   ],
   "source": [
    "# Instantiate, with default value of alpha (0)\n",
    "ridge = Ridge(alpha=0)\n",
    "# Fit.\n",
    "ridge.fit(Z_train, y_train)\n",
    "# Evaluate model using R2.\n",
    "print(f'Training Score: {ridge.score(Z_train, y_train)}')\n",
    "print(f'Testing Score: {ridge.score(Z_test, y_test)}')"
   ]
  },
  {
   "cell_type": "markdown",
   "id": "d76a72c7-3709-49d1-bbfd-2e3e2bc82a12",
   "metadata": {},
   "source": [
    "- Alpha 1: with moderate regularization the model perform well on both training and testing sets. The score similiar indicating good generalization\n",
    "\n",
    "- Alpha 100: Slightly increasing the regularization strength doesn't significantly impact the performance. The model still generalizes well and the testing score improve slightly\n",
    "\n",
    "- Alpha 1000: with a higher regularization strength, the model performance decreases. This regulariztion may be to strong, leading to underfitting. It doesnt capture the underlying patterns as well\n",
    "\n",
    "- Alpha 10000: With even higher regularization strength, the model performance significantly drops. This regularization is to strong and the model is likely underfitting. This model is penalized for complexity, resulting in poor generalization \n",
    "\n"
   ]
  },
  {
   "cell_type": "code",
   "execution_count": 17,
   "id": "84c8b5ab-8c0d-44b9-9a2a-f4c681ae7dc7",
   "metadata": {
    "tags": []
   },
   "outputs": [
    {
     "data": {
      "text/html": [
       "<style>#sk-container-id-2 {color: black;}#sk-container-id-2 pre{padding: 0;}#sk-container-id-2 div.sk-toggleable {background-color: white;}#sk-container-id-2 label.sk-toggleable__label {cursor: pointer;display: block;width: 100%;margin-bottom: 0;padding: 0.3em;box-sizing: border-box;text-align: center;}#sk-container-id-2 label.sk-toggleable__label-arrow:before {content: \"▸\";float: left;margin-right: 0.25em;color: #696969;}#sk-container-id-2 label.sk-toggleable__label-arrow:hover:before {color: black;}#sk-container-id-2 div.sk-estimator:hover label.sk-toggleable__label-arrow:before {color: black;}#sk-container-id-2 div.sk-toggleable__content {max-height: 0;max-width: 0;overflow: hidden;text-align: left;background-color: #f0f8ff;}#sk-container-id-2 div.sk-toggleable__content pre {margin: 0.2em;color: black;border-radius: 0.25em;background-color: #f0f8ff;}#sk-container-id-2 input.sk-toggleable__control:checked~div.sk-toggleable__content {max-height: 200px;max-width: 100%;overflow: auto;}#sk-container-id-2 input.sk-toggleable__control:checked~label.sk-toggleable__label-arrow:before {content: \"▾\";}#sk-container-id-2 div.sk-estimator input.sk-toggleable__control:checked~label.sk-toggleable__label {background-color: #d4ebff;}#sk-container-id-2 div.sk-label input.sk-toggleable__control:checked~label.sk-toggleable__label {background-color: #d4ebff;}#sk-container-id-2 input.sk-hidden--visually {border: 0;clip: rect(1px 1px 1px 1px);clip: rect(1px, 1px, 1px, 1px);height: 1px;margin: -1px;overflow: hidden;padding: 0;position: absolute;width: 1px;}#sk-container-id-2 div.sk-estimator {font-family: monospace;background-color: #f0f8ff;border: 1px dotted black;border-radius: 0.25em;box-sizing: border-box;margin-bottom: 0.5em;}#sk-container-id-2 div.sk-estimator:hover {background-color: #d4ebff;}#sk-container-id-2 div.sk-parallel-item::after {content: \"\";width: 100%;border-bottom: 1px solid gray;flex-grow: 1;}#sk-container-id-2 div.sk-label:hover label.sk-toggleable__label {background-color: #d4ebff;}#sk-container-id-2 div.sk-serial::before {content: \"\";position: absolute;border-left: 1px solid gray;box-sizing: border-box;top: 0;bottom: 0;left: 50%;z-index: 0;}#sk-container-id-2 div.sk-serial {display: flex;flex-direction: column;align-items: center;background-color: white;padding-right: 0.2em;padding-left: 0.2em;position: relative;}#sk-container-id-2 div.sk-item {position: relative;z-index: 1;}#sk-container-id-2 div.sk-parallel {display: flex;align-items: stretch;justify-content: center;background-color: white;position: relative;}#sk-container-id-2 div.sk-item::before, #sk-container-id-2 div.sk-parallel-item::before {content: \"\";position: absolute;border-left: 1px solid gray;box-sizing: border-box;top: 0;bottom: 0;left: 50%;z-index: -1;}#sk-container-id-2 div.sk-parallel-item {display: flex;flex-direction: column;z-index: 1;position: relative;background-color: white;}#sk-container-id-2 div.sk-parallel-item:first-child::after {align-self: flex-end;width: 50%;}#sk-container-id-2 div.sk-parallel-item:last-child::after {align-self: flex-start;width: 50%;}#sk-container-id-2 div.sk-parallel-item:only-child::after {width: 0;}#sk-container-id-2 div.sk-dashed-wrapped {border: 1px dashed gray;margin: 0 0.4em 0.5em 0.4em;box-sizing: border-box;padding-bottom: 0.4em;background-color: white;}#sk-container-id-2 div.sk-label label {font-family: monospace;font-weight: bold;display: inline-block;line-height: 1.2em;}#sk-container-id-2 div.sk-label-container {text-align: center;}#sk-container-id-2 div.sk-container {/* jupyter's `normalize.less` sets `[hidden] { display: none; }` but bootstrap.min.css set `[hidden] { display: none !important; }` so we also need the `!important` here to be able to override the default hidden behavior on the sphinx rendered scikit-learn.org. See: https://github.com/scikit-learn/scikit-learn/issues/21755 */display: inline-block !important;position: relative;}#sk-container-id-2 div.sk-text-repr-fallback {display: none;}</style><div id=\"sk-container-id-2\" class=\"sk-top-container\"><div class=\"sk-text-repr-fallback\"><pre>RidgeCV(alphas=array([1.00000000e+00, 1.12332403e+00, 1.26185688e+00, 1.41747416e+00,\n",
       "       1.59228279e+00, 1.78864953e+00, 2.00923300e+00, 2.25701972e+00,\n",
       "       2.53536449e+00, 2.84803587e+00, 3.19926714e+00, 3.59381366e+00,\n",
       "       4.03701726e+00, 4.53487851e+00, 5.09413801e+00, 5.72236766e+00,\n",
       "       6.42807312e+00, 7.22080902e+00, 8.11130831e+00, 9.11162756e+00,\n",
       "       1.02353102e+01, 1.14975700e+0...\n",
       "       6.89261210e+03, 7.74263683e+03, 8.69749003e+03, 9.77009957e+03,\n",
       "       1.09749877e+04, 1.23284674e+04, 1.38488637e+04, 1.55567614e+04,\n",
       "       1.74752840e+04, 1.96304065e+04, 2.20513074e+04, 2.47707636e+04,\n",
       "       2.78255940e+04, 3.12571585e+04, 3.51119173e+04, 3.94420606e+04,\n",
       "       4.43062146e+04, 4.97702356e+04, 5.59081018e+04, 6.28029144e+04,\n",
       "       7.05480231e+04, 7.92482898e+04, 8.90215085e+04, 1.00000000e+05]),\n",
       "        cv=5)</pre><b>In a Jupyter environment, please rerun this cell to show the HTML representation or trust the notebook. <br />On GitHub, the HTML representation is unable to render, please try loading this page with nbviewer.org.</b></div><div class=\"sk-container\" hidden><div class=\"sk-item\"><div class=\"sk-estimator sk-toggleable\"><input class=\"sk-toggleable__control sk-hidden--visually\" id=\"sk-estimator-id-2\" type=\"checkbox\" checked><label for=\"sk-estimator-id-2\" class=\"sk-toggleable__label sk-toggleable__label-arrow\">RidgeCV</label><div class=\"sk-toggleable__content\"><pre>RidgeCV(alphas=array([1.00000000e+00, 1.12332403e+00, 1.26185688e+00, 1.41747416e+00,\n",
       "       1.59228279e+00, 1.78864953e+00, 2.00923300e+00, 2.25701972e+00,\n",
       "       2.53536449e+00, 2.84803587e+00, 3.19926714e+00, 3.59381366e+00,\n",
       "       4.03701726e+00, 4.53487851e+00, 5.09413801e+00, 5.72236766e+00,\n",
       "       6.42807312e+00, 7.22080902e+00, 8.11130831e+00, 9.11162756e+00,\n",
       "       1.02353102e+01, 1.14975700e+0...\n",
       "       6.89261210e+03, 7.74263683e+03, 8.69749003e+03, 9.77009957e+03,\n",
       "       1.09749877e+04, 1.23284674e+04, 1.38488637e+04, 1.55567614e+04,\n",
       "       1.74752840e+04, 1.96304065e+04, 2.20513074e+04, 2.47707636e+04,\n",
       "       2.78255940e+04, 3.12571585e+04, 3.51119173e+04, 3.94420606e+04,\n",
       "       4.43062146e+04, 4.97702356e+04, 5.59081018e+04, 6.28029144e+04,\n",
       "       7.05480231e+04, 7.92482898e+04, 8.90215085e+04, 1.00000000e+05]),\n",
       "        cv=5)</pre></div></div></div></div></div>"
      ],
      "text/plain": [
       "RidgeCV(alphas=array([1.00000000e+00, 1.12332403e+00, 1.26185688e+00, 1.41747416e+00,\n",
       "       1.59228279e+00, 1.78864953e+00, 2.00923300e+00, 2.25701972e+00,\n",
       "       2.53536449e+00, 2.84803587e+00, 3.19926714e+00, 3.59381366e+00,\n",
       "       4.03701726e+00, 4.53487851e+00, 5.09413801e+00, 5.72236766e+00,\n",
       "       6.42807312e+00, 7.22080902e+00, 8.11130831e+00, 9.11162756e+00,\n",
       "       1.02353102e+01, 1.14975700e+0...\n",
       "       6.89261210e+03, 7.74263683e+03, 8.69749003e+03, 9.77009957e+03,\n",
       "       1.09749877e+04, 1.23284674e+04, 1.38488637e+04, 1.55567614e+04,\n",
       "       1.74752840e+04, 1.96304065e+04, 2.20513074e+04, 2.47707636e+04,\n",
       "       2.78255940e+04, 3.12571585e+04, 3.51119173e+04, 3.94420606e+04,\n",
       "       4.43062146e+04, 4.97702356e+04, 5.59081018e+04, 6.28029144e+04,\n",
       "       7.05480231e+04, 7.92482898e+04, 8.90215085e+04, 1.00000000e+05]),\n",
       "        cv=5)"
      ]
     },
     "execution_count": 17,
     "metadata": {},
     "output_type": "execute_result"
    }
   ],
   "source": [
    "# Brute Force logic lesson 3.07\n",
    "# np.logspace generates 100 values equally between 0 and 5,\n",
    "# then converts them to alphas between 10^0 and 10^5.\n",
    "alphas = np.logspace(0, 5, 100)\n",
    "# Cross-validate over the list of ridge alphas.\n",
    "ridge_cv = RidgeCV(alphas = alphas, cv =5 )\n",
    "# Fit model using best ridge alpha!\n",
    "ridge_cv.fit(Z_train, y_train)"
   ]
  },
  {
   "cell_type": "code",
   "execution_count": 18,
   "id": "38f5802c-f4cb-439f-b0c9-6f0357d9a545",
   "metadata": {
    "tags": []
   },
   "outputs": [
    {
     "data": {
      "text/plain": [
       "187.3817422860383"
      ]
     },
     "execution_count": 18,
     "metadata": {},
     "output_type": "execute_result"
    }
   ],
   "source": [
    "#the optimal value of alpha\n",
    "ridge_cv.alpha_"
   ]
  },
  {
   "cell_type": "code",
   "execution_count": 19,
   "id": "2bb63e5a-3713-4e7a-8421-eabf1aec9fa1",
   "metadata": {
    "tags": []
   },
   "outputs": [
    {
     "data": {
      "text/plain": [
       "0.8339776668151438"
      ]
     },
     "execution_count": 19,
     "metadata": {},
     "output_type": "execute_result"
    }
   ],
   "source": [
    "#the optimal cross-validated R-squared score achieved \n",
    "ridge_cv.best_score_"
   ]
  },
  {
   "cell_type": "code",
   "execution_count": 20,
   "id": "aee22ccc-d82e-4d74-a24d-e00678ddac09",
   "metadata": {
    "tags": []
   },
   "outputs": [
    {
     "name": "stdout",
     "output_type": "stream",
     "text": [
      "0.8599930605697735\n",
      "0.8633853644603979\n"
     ]
    }
   ],
   "source": [
    "print(ridge_cv.score(Z_train, y_train))\n",
    "print(ridge_cv.score(Z_test, y_test))"
   ]
  },
  {
   "cell_type": "markdown",
   "id": "c0a65a5b-654c-451d-8107-b41d245f08dc",
   "metadata": {},
   "source": [
    "In summary, this Ridge regression model demonstrates good performance on both the training and testing sets with the approriate alpha score. It strikes a good balance between fitting the data and preventing overfitting, leading to high R-squared scores on both sets."
   ]
  },
  {
   "cell_type": "markdown",
   "id": "ed57187f-fad4-4f15-9299-f56634b56d1c",
   "metadata": {},
   "source": [
    "**Lasso**"
   ]
  },
  {
   "cell_type": "code",
   "execution_count": 21,
   "id": "fc451846-1bba-45e5-af41-7addfb1c66c1",
   "metadata": {
    "tags": []
   },
   "outputs": [
    {
     "name": "stdout",
     "output_type": "stream",
     "text": [
      "====== OLS =======\n",
      "0.8626425982725601\n",
      "0.8648270899011734\n",
      "\n",
      "===== Ridge ======\n",
      "0.8599930605697735\n",
      "0.8633853644603979\n"
     ]
    }
   ],
   "source": [
    "#should put in the modeling section: Reminders\n",
    "print(\" OLS \".center(18, \"=\"))\n",
    "print(ols.score(Z_train, y_train))\n",
    "print(ols.score(Z_test, y_test))\n",
    "print()\n",
    "print(\" Ridge \".center(18, \"=\"))\n",
    "print(ridge_cv.score(Z_train, y_train))\n",
    "print(ridge_cv.score(Z_test, y_test))"
   ]
  },
  {
   "cell_type": "code",
   "execution_count": 22,
   "id": "68b64344-b3f3-4a1a-ad65-a1aff8eddc89",
   "metadata": {
    "tags": []
   },
   "outputs": [
    {
     "name": "stderr",
     "output_type": "stream",
     "text": [
      "/Users/aamad_000/anaconda3/lib/python3.11/site-packages/sklearn/linear_model/_coordinate_descent.py:614: ConvergenceWarning: Objective did not converge. You might want to increase the number of iterations. Duality gap: 79190067517.3678, tolerance: 823890400.1556158\n",
      "  model = cd_fast.enet_coordinate_descent_gram(\n",
      "/Users/aamad_000/anaconda3/lib/python3.11/site-packages/sklearn/linear_model/_coordinate_descent.py:614: ConvergenceWarning: Objective did not converge. You might want to increase the number of iterations. Duality gap: 20205405801.18335, tolerance: 823890400.1556158\n",
      "  model = cd_fast.enet_coordinate_descent_gram(\n",
      "/Users/aamad_000/anaconda3/lib/python3.11/site-packages/sklearn/linear_model/_coordinate_descent.py:614: ConvergenceWarning: Objective did not converge. You might want to increase the number of iterations. Duality gap: 20201235819.22583, tolerance: 823890400.1556158\n",
      "  model = cd_fast.enet_coordinate_descent_gram(\n",
      "/Users/aamad_000/anaconda3/lib/python3.11/site-packages/sklearn/linear_model/_coordinate_descent.py:614: ConvergenceWarning: Objective did not converge. You might want to increase the number of iterations. Duality gap: 20197665050.741333, tolerance: 823890400.1556158\n",
      "  model = cd_fast.enet_coordinate_descent_gram(\n",
      "/Users/aamad_000/anaconda3/lib/python3.11/site-packages/sklearn/linear_model/_coordinate_descent.py:614: ConvergenceWarning: Objective did not converge. You might want to increase the number of iterations. Duality gap: 7978032291.523315, tolerance: 823890400.1556158\n",
      "  model = cd_fast.enet_coordinate_descent_gram(\n",
      "/Users/aamad_000/anaconda3/lib/python3.11/site-packages/sklearn/linear_model/_coordinate_descent.py:614: ConvergenceWarning: Objective did not converge. You might want to increase the number of iterations. Duality gap: 5939884452.430786, tolerance: 823890400.1556158\n",
      "  model = cd_fast.enet_coordinate_descent_gram(\n",
      "/Users/aamad_000/anaconda3/lib/python3.11/site-packages/sklearn/linear_model/_coordinate_descent.py:614: ConvergenceWarning: Objective did not converge. You might want to increase the number of iterations. Duality gap: 5938522844.132446, tolerance: 823890400.1556158\n",
      "  model = cd_fast.enet_coordinate_descent_gram(\n",
      "/Users/aamad_000/anaconda3/lib/python3.11/site-packages/sklearn/linear_model/_coordinate_descent.py:614: ConvergenceWarning: Objective did not converge. You might want to increase the number of iterations. Duality gap: 47133199256.73901, tolerance: 851324810.643811\n",
      "  model = cd_fast.enet_coordinate_descent_gram(\n",
      "/Users/aamad_000/anaconda3/lib/python3.11/site-packages/sklearn/linear_model/_coordinate_descent.py:614: ConvergenceWarning: Objective did not converge. You might want to increase the number of iterations. Duality gap: 47109237830.260254, tolerance: 851324810.643811\n",
      "  model = cd_fast.enet_coordinate_descent_gram(\n",
      "/Users/aamad_000/anaconda3/lib/python3.11/site-packages/sklearn/linear_model/_coordinate_descent.py:614: ConvergenceWarning: Objective did not converge. You might want to increase the number of iterations. Duality gap: 5471434056.800537, tolerance: 851324810.643811\n",
      "  model = cd_fast.enet_coordinate_descent_gram(\n",
      "/Users/aamad_000/anaconda3/lib/python3.11/site-packages/sklearn/linear_model/_coordinate_descent.py:614: ConvergenceWarning: Objective did not converge. You might want to increase the number of iterations. Duality gap: 43823699652.70032, tolerance: 826453149.3005567\n",
      "  model = cd_fast.enet_coordinate_descent_gram(\n",
      "/Users/aamad_000/anaconda3/lib/python3.11/site-packages/sklearn/linear_model/_coordinate_descent.py:614: ConvergenceWarning: Objective did not converge. You might want to increase the number of iterations. Duality gap: 40744859154.54346, tolerance: 826453149.3005567\n",
      "  model = cd_fast.enet_coordinate_descent_gram(\n",
      "/Users/aamad_000/anaconda3/lib/python3.11/site-packages/sklearn/linear_model/_coordinate_descent.py:614: ConvergenceWarning: Objective did not converge. You might want to increase the number of iterations. Duality gap: 26652250563.81604, tolerance: 826453149.3005567\n",
      "  model = cd_fast.enet_coordinate_descent_gram(\n",
      "/Users/aamad_000/anaconda3/lib/python3.11/site-packages/sklearn/linear_model/_coordinate_descent.py:614: ConvergenceWarning: Objective did not converge. You might want to increase the number of iterations. Duality gap: 76421767076.74512, tolerance: 797539424.6529875\n",
      "  model = cd_fast.enet_coordinate_descent_gram(\n",
      "/Users/aamad_000/anaconda3/lib/python3.11/site-packages/sklearn/linear_model/_coordinate_descent.py:614: ConvergenceWarning: Objective did not converge. You might want to increase the number of iterations. Duality gap: 7864439934.981689, tolerance: 797539424.6529875\n",
      "  model = cd_fast.enet_coordinate_descent_gram(\n",
      "/Users/aamad_000/anaconda3/lib/python3.11/site-packages/sklearn/linear_model/_coordinate_descent.py:614: ConvergenceWarning: Objective did not converge. You might want to increase the number of iterations. Duality gap: 46055898447.84485, tolerance: 874706017.577294\n",
      "  model = cd_fast.enet_coordinate_descent_gram(\n",
      "/Users/aamad_000/anaconda3/lib/python3.11/site-packages/sklearn/linear_model/_coordinate_descent.py:614: ConvergenceWarning: Objective did not converge. You might want to increase the number of iterations. Duality gap: 46077856831.42114, tolerance: 874706017.577294\n",
      "  model = cd_fast.enet_coordinate_descent_gram(\n",
      "/Users/aamad_000/anaconda3/lib/python3.11/site-packages/sklearn/linear_model/_coordinate_descent.py:628: ConvergenceWarning: Objective did not converge. You might want to increase the number of iterations, check the scale of the features or consider increasing regularisation. Duality gap: 8.328e+10, tolerance: 1.044e+09\n",
      "  model = cd_fast.enet_coordinate_descent(\n"
     ]
    },
    {
     "data": {
      "text/html": [
       "<style>#sk-container-id-3 {color: black;}#sk-container-id-3 pre{padding: 0;}#sk-container-id-3 div.sk-toggleable {background-color: white;}#sk-container-id-3 label.sk-toggleable__label {cursor: pointer;display: block;width: 100%;margin-bottom: 0;padding: 0.3em;box-sizing: border-box;text-align: center;}#sk-container-id-3 label.sk-toggleable__label-arrow:before {content: \"▸\";float: left;margin-right: 0.25em;color: #696969;}#sk-container-id-3 label.sk-toggleable__label-arrow:hover:before {color: black;}#sk-container-id-3 div.sk-estimator:hover label.sk-toggleable__label-arrow:before {color: black;}#sk-container-id-3 div.sk-toggleable__content {max-height: 0;max-width: 0;overflow: hidden;text-align: left;background-color: #f0f8ff;}#sk-container-id-3 div.sk-toggleable__content pre {margin: 0.2em;color: black;border-radius: 0.25em;background-color: #f0f8ff;}#sk-container-id-3 input.sk-toggleable__control:checked~div.sk-toggleable__content {max-height: 200px;max-width: 100%;overflow: auto;}#sk-container-id-3 input.sk-toggleable__control:checked~label.sk-toggleable__label-arrow:before {content: \"▾\";}#sk-container-id-3 div.sk-estimator input.sk-toggleable__control:checked~label.sk-toggleable__label {background-color: #d4ebff;}#sk-container-id-3 div.sk-label input.sk-toggleable__control:checked~label.sk-toggleable__label {background-color: #d4ebff;}#sk-container-id-3 input.sk-hidden--visually {border: 0;clip: rect(1px 1px 1px 1px);clip: rect(1px, 1px, 1px, 1px);height: 1px;margin: -1px;overflow: hidden;padding: 0;position: absolute;width: 1px;}#sk-container-id-3 div.sk-estimator {font-family: monospace;background-color: #f0f8ff;border: 1px dotted black;border-radius: 0.25em;box-sizing: border-box;margin-bottom: 0.5em;}#sk-container-id-3 div.sk-estimator:hover {background-color: #d4ebff;}#sk-container-id-3 div.sk-parallel-item::after {content: \"\";width: 100%;border-bottom: 1px solid gray;flex-grow: 1;}#sk-container-id-3 div.sk-label:hover label.sk-toggleable__label {background-color: #d4ebff;}#sk-container-id-3 div.sk-serial::before {content: \"\";position: absolute;border-left: 1px solid gray;box-sizing: border-box;top: 0;bottom: 0;left: 50%;z-index: 0;}#sk-container-id-3 div.sk-serial {display: flex;flex-direction: column;align-items: center;background-color: white;padding-right: 0.2em;padding-left: 0.2em;position: relative;}#sk-container-id-3 div.sk-item {position: relative;z-index: 1;}#sk-container-id-3 div.sk-parallel {display: flex;align-items: stretch;justify-content: center;background-color: white;position: relative;}#sk-container-id-3 div.sk-item::before, #sk-container-id-3 div.sk-parallel-item::before {content: \"\";position: absolute;border-left: 1px solid gray;box-sizing: border-box;top: 0;bottom: 0;left: 50%;z-index: -1;}#sk-container-id-3 div.sk-parallel-item {display: flex;flex-direction: column;z-index: 1;position: relative;background-color: white;}#sk-container-id-3 div.sk-parallel-item:first-child::after {align-self: flex-end;width: 50%;}#sk-container-id-3 div.sk-parallel-item:last-child::after {align-self: flex-start;width: 50%;}#sk-container-id-3 div.sk-parallel-item:only-child::after {width: 0;}#sk-container-id-3 div.sk-dashed-wrapped {border: 1px dashed gray;margin: 0 0.4em 0.5em 0.4em;box-sizing: border-box;padding-bottom: 0.4em;background-color: white;}#sk-container-id-3 div.sk-label label {font-family: monospace;font-weight: bold;display: inline-block;line-height: 1.2em;}#sk-container-id-3 div.sk-label-container {text-align: center;}#sk-container-id-3 div.sk-container {/* jupyter's `normalize.less` sets `[hidden] { display: none; }` but bootstrap.min.css set `[hidden] { display: none !important; }` so we also need the `!important` here to be able to override the default hidden behavior on the sphinx rendered scikit-learn.org. See: https://github.com/scikit-learn/scikit-learn/issues/21755 */display: inline-block !important;position: relative;}#sk-container-id-3 div.sk-text-repr-fallback {display: none;}</style><div id=\"sk-container-id-3\" class=\"sk-top-container\"><div class=\"sk-text-repr-fallback\"><pre>LassoCV(alphas=array([0.001     , 0.00107227, 0.00114976, 0.00123285, 0.00132194,\n",
       "       0.00141747, 0.00151991, 0.00162975, 0.00174753, 0.00187382,\n",
       "       0.00200923, 0.00215443, 0.00231013, 0.00247708, 0.00265609,\n",
       "       0.00284804, 0.00305386, 0.00327455, 0.00351119, 0.00376494,\n",
       "       0.00403702, 0.00432876, 0.00464159, 0.00497702, 0.0053367 ,\n",
       "       0.00572237, 0.00613591, 0.00657933, 0.0070548 , 0.00756463,\n",
       "       0.008...\n",
       "       0.09326033, 0.1       , 0.10722672, 0.1149757 , 0.12328467,\n",
       "       0.13219411, 0.14174742, 0.15199111, 0.16297508, 0.17475284,\n",
       "       0.18738174, 0.2009233 , 0.21544347, 0.23101297, 0.24770764,\n",
       "       0.26560878, 0.28480359, 0.30538555, 0.32745492, 0.35111917,\n",
       "       0.37649358, 0.40370173, 0.43287613, 0.46415888, 0.49770236,\n",
       "       0.53366992, 0.57223677, 0.61359073, 0.65793322, 0.70548023,\n",
       "       0.75646333, 0.81113083, 0.869749  , 0.93260335, 1.        ]))</pre><b>In a Jupyter environment, please rerun this cell to show the HTML representation or trust the notebook. <br />On GitHub, the HTML representation is unable to render, please try loading this page with nbviewer.org.</b></div><div class=\"sk-container\" hidden><div class=\"sk-item\"><div class=\"sk-estimator sk-toggleable\"><input class=\"sk-toggleable__control sk-hidden--visually\" id=\"sk-estimator-id-3\" type=\"checkbox\" checked><label for=\"sk-estimator-id-3\" class=\"sk-toggleable__label sk-toggleable__label-arrow\">LassoCV</label><div class=\"sk-toggleable__content\"><pre>LassoCV(alphas=array([0.001     , 0.00107227, 0.00114976, 0.00123285, 0.00132194,\n",
       "       0.00141747, 0.00151991, 0.00162975, 0.00174753, 0.00187382,\n",
       "       0.00200923, 0.00215443, 0.00231013, 0.00247708, 0.00265609,\n",
       "       0.00284804, 0.00305386, 0.00327455, 0.00351119, 0.00376494,\n",
       "       0.00403702, 0.00432876, 0.00464159, 0.00497702, 0.0053367 ,\n",
       "       0.00572237, 0.00613591, 0.00657933, 0.0070548 , 0.00756463,\n",
       "       0.008...\n",
       "       0.09326033, 0.1       , 0.10722672, 0.1149757 , 0.12328467,\n",
       "       0.13219411, 0.14174742, 0.15199111, 0.16297508, 0.17475284,\n",
       "       0.18738174, 0.2009233 , 0.21544347, 0.23101297, 0.24770764,\n",
       "       0.26560878, 0.28480359, 0.30538555, 0.32745492, 0.35111917,\n",
       "       0.37649358, 0.40370173, 0.43287613, 0.46415888, 0.49770236,\n",
       "       0.53366992, 0.57223677, 0.61359073, 0.65793322, 0.70548023,\n",
       "       0.75646333, 0.81113083, 0.869749  , 0.93260335, 1.        ]))</pre></div></div></div></div></div>"
      ],
      "text/plain": [
       "LassoCV(alphas=array([0.001     , 0.00107227, 0.00114976, 0.00123285, 0.00132194,\n",
       "       0.00141747, 0.00151991, 0.00162975, 0.00174753, 0.00187382,\n",
       "       0.00200923, 0.00215443, 0.00231013, 0.00247708, 0.00265609,\n",
       "       0.00284804, 0.00305386, 0.00327455, 0.00351119, 0.00376494,\n",
       "       0.00403702, 0.00432876, 0.00464159, 0.00497702, 0.0053367 ,\n",
       "       0.00572237, 0.00613591, 0.00657933, 0.0070548 , 0.00756463,\n",
       "       0.008...\n",
       "       0.09326033, 0.1       , 0.10722672, 0.1149757 , 0.12328467,\n",
       "       0.13219411, 0.14174742, 0.15199111, 0.16297508, 0.17475284,\n",
       "       0.18738174, 0.2009233 , 0.21544347, 0.23101297, 0.24770764,\n",
       "       0.26560878, 0.28480359, 0.30538555, 0.32745492, 0.35111917,\n",
       "       0.37649358, 0.40370173, 0.43287613, 0.46415888, 0.49770236,\n",
       "       0.53366992, 0.57223677, 0.61359073, 0.65793322, 0.70548023,\n",
       "       0.75646333, 0.81113083, 0.869749  , 0.93260335, 1.        ]))"
      ]
     },
     "execution_count": 22,
     "metadata": {},
     "output_type": "execute_result"
    }
   ],
   "source": [
    "# Set up a list of 100  Lasso alphas from 0.001 to 1.0 to check.\n",
    "l_alphas = np.logspace(-3, 0, 100)\n",
    "# Cross-validate over the list of Lasso alphas.\n",
    "lasso_cv = LassoCV(alphas=l_alphas)\n",
    "# Fit model using best ridge alpha!\n",
    "lasso_cv.fit(Z_train, y_train)"
   ]
  },
  {
   "cell_type": "code",
   "execution_count": 23,
   "id": "bab062f5-7350-4aa8-8336-99712d4834cb",
   "metadata": {
    "tags": []
   },
   "outputs": [
    {
     "data": {
      "text/plain": [
       "1.0"
      ]
     },
     "execution_count": 23,
     "metadata": {},
     "output_type": "execute_result"
    }
   ],
   "source": [
    "#The optimal value of alpha\n",
    "lasso_cv.alpha_"
   ]
  },
  {
   "cell_type": "code",
   "execution_count": 24,
   "id": "74a92a99-883f-464e-8226-b30b2ea11710",
   "metadata": {
    "tags": []
   },
   "outputs": [
    {
     "name": "stdout",
     "output_type": "stream",
     "text": [
      "0.8626442854604521\n",
      "0.8648435953890418\n"
     ]
    }
   ],
   "source": [
    "print(lasso_cv.score(Z_train, y_train))\n",
    "print(lasso_cv.score(Z_test, y_test))"
   ]
  },
  {
   "cell_type": "markdown",
   "id": "e8514990-101d-4bed-8209-7202197ca4cf",
   "metadata": {},
   "source": [
    "- The score of the Lasso regression model, represent the goodness of fit and generalization performance of the Lasso regression model. The model with the optimal alpha demonstrate good performance on both training and testing sets, providing a balance between fitting the data and preventing overfitting."
   ]
  },
  {
   "cell_type": "code",
   "execution_count": 25,
   "id": "bf7d17da-6c17-411e-bd6f-8a48a855bb4d",
   "metadata": {
    "tags": []
   },
   "outputs": [],
   "source": [
    "# # Save preprocessed data to a CSV file\n",
    "# df_cleaned.to_csv('../data/test_clean2.csv', index=False) \n"
   ]
  },
  {
   "cell_type": "code",
   "execution_count": null,
   "id": "d159dc48-f86c-4951-ba64-a23577535085",
   "metadata": {},
   "outputs": [],
   "source": []
  }
 ],
 "metadata": {
  "kernelspec": {
   "display_name": "Python 3 (ipykernel)",
   "language": "python",
   "name": "python3"
  },
  "language_info": {
   "codemirror_mode": {
    "name": "ipython",
    "version": 3
   },
   "file_extension": ".py",
   "mimetype": "text/x-python",
   "name": "python",
   "nbconvert_exporter": "python",
   "pygments_lexer": "ipython3",
   "version": "3.11.5"
  }
 },
 "nbformat": 4,
 "nbformat_minor": 5
}
