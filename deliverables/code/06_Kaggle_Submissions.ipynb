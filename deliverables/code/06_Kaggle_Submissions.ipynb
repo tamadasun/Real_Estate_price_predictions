{
 "cells": [
  {
   "cell_type": "markdown",
   "id": "64f0f6ec-bc8e-4cff-81b6-ba432262b9d8",
   "metadata": {},
   "source": [
    "# Kaggle Submission"
   ]
  },
  {
   "cell_type": "markdown",
   "id": "58f21c46-8f57-422f-9221-0429d7f54709",
   "metadata": {},
   "source": [
    "Anthony Amadasun\n",
    "\n",
    "December 15th 20223"
   ]
  },
  {
   "cell_type": "markdown",
   "id": "f682ccd2-312e-4f32-8fd0-260fefd81be3",
   "metadata": {},
   "source": [
    "---\n",
    "\n",
    "### Introduction\n",
    "\n",
    "This section contains the code submission for the Kaggle competition. The purpose of this section is to practice refining models over time, utilizing train-test split, cross-validation, and data with unknown values for the target to simulate the modeling process. Moreover, familiarize myself with the use of Kaggle as a place to practice data science. \n",
    "\n",
    "The objective is to predict the sales price for each house. For each Id in the test set, I must predict the value of the SalePrice variable. \n",
    "\n"
   ]
  },
  {
   "cell_type": "markdown",
   "id": "4bd7ba7f-17f4-41dd-957e-c32dd0f4d4a5",
   "metadata": {
    "tags": []
   },
   "source": [
    "---\n",
    "\n",
    "### Importing Libraries"
   ]
  },
  {
   "cell_type": "code",
   "execution_count": 88,
   "id": "ec298d16-0676-45f2-bcfb-8c6812a22b38",
   "metadata": {
    "tags": []
   },
   "outputs": [],
   "source": [
    "import pandas as pd\n",
    "import numpy as np\n",
    "import seaborn as sns\n",
    "import matplotlib.pyplot as plt\n",
    "\n",
    "from sklearn.metrics import mean_squared_error, mean_absolute_error, r2_score\n",
    "from sklearn.linear_model import LinearRegression, Ridge, Lasso, RidgeCV\n",
    "from sklearn.model_selection import train_test_split, cross_val_score, GridSearchCV\n",
    "from sklearn.preprocessing import StandardScaler, PolynomialFeatures"
   ]
  },
  {
   "cell_type": "markdown",
   "id": "6b578481-dd08-4af2-b8cc-1d71d2eed5f7",
   "metadata": {},
   "source": [
    "---\n",
    "\n",
    "### Load in Data"
   ]
  },
  {
   "cell_type": "code",
   "execution_count": 89,
   "id": "1209f595-09bd-465e-928c-160b344e644c",
   "metadata": {
    "tags": []
   },
   "outputs": [],
   "source": [
    "# load preprocessed data\n",
    "df_cleaned = pd.read_csv('../data/test_clean4.csv')\n",
    "file_path_train = '../data/train.csv'\n",
    "df_train = pd.read_csv(file_path_train)\n",
    "\n",
    "# df = pd.read_csv('https://raw.git.generalassemb.ly/dsi-1113/project-2/main/datasets/train.csv?token=AAAETZWEPZZRPXEMANF2EADFPIRVE')\n",
    "# kaggle_data = pd.read_csv('https://raw.git.generalassemb.ly/dsi-1113/project-2/main/datasets/test.csv?token=AAAETZWYQX6PO7IXVWSDYQLFPIRXA')"
   ]
  },
  {
   "cell_type": "markdown",
   "id": "ee75a037-a978-42ae-b15c-967f22b85790",
   "metadata": {
    "tags": []
   },
   "source": [
    "---\n",
    "\n",
    "### Create the Kaggle Model"
   ]
  },
  {
   "cell_type": "code",
   "execution_count": 104,
   "id": "4c3916e9-2545-4012-b923-5a56b859e977",
   "metadata": {},
   "outputs": [],
   "source": [
    "# All numeric columns of the dataset selected\n",
    "X = df_cleaned.select_dtypes(include=['float64', 'int64']).drop('SalePrice', axis=1)\n",
    "y = df_cleaned['SalePrice']\n"
   ]
  },
  {
   "cell_type": "code",
   "execution_count": 105,
   "id": "0635fd23-3aed-4d4c-9178-be1d6398e64c",
   "metadata": {
    "tags": []
   },
   "outputs": [],
   "source": [
    "X_train, X_test, y_train, y_test = train_test_split(X, y, \n",
    "                                                    test_size=0.2, \n",
    "                                                    random_state=42)"
   ]
  },
  {
   "cell_type": "code",
   "execution_count": 106,
   "id": "4f2166aa-7863-493f-b29b-ad19ac8b42a2",
   "metadata": {
    "tags": []
   },
   "outputs": [],
   "source": [
    "# Scale our data.\n",
    "scaler = StandardScaler()"
   ]
  },
  {
   "cell_type": "code",
   "execution_count": 107,
   "id": "f8a510b6-358b-4540-9780-b5adead65d17",
   "metadata": {
    "tags": []
   },
   "outputs": [],
   "source": [
    "# Fit/transform from training to learn mean, stdev. \n",
    "#and then transform both using things learned from training\n",
    "Z_train = scaler.fit_transform(X_train)\n",
    "Z_test = scaler.transform(X_test)"
   ]
  },
  {
   "cell_type": "code",
   "execution_count": 108,
   "id": "ecec6efb-b68e-41f4-b750-144770f9b32e",
   "metadata": {},
   "outputs": [
    {
     "name": "stdout",
     "output_type": "stream",
     "text": [
      "Kaggle Results:\n",
      "MAE (Test): 19930.94\n",
      "R² (Test): 0.8655\n",
      "RMSE (Test): 28272.03\n"
     ]
    }
   ],
   "source": [
    "# hyperparameter\n",
    "kaggle_alpha = 100\n",
    "\n",
    "#Ridge model with specified alpha\n",
    "kaggle_model = Ridge(alpha=kaggle_alpha)\n",
    "\n",
    "# Fit the Ridge model\n",
    "kaggle_model.fit(Z_train, y_train)\n",
    "\n",
    "# Predictions for Ridge\n",
    "y_pred_kaggle_train = kaggle_model.predict(Z_train)\n",
    "y_pred_kaggle_test = kaggle_model.predict(Z_test)\n",
    "\n",
    "# # Save Kaggle predictions to CSV\n",
    "kaggle_predictions = pd.DataFrame({'SalePrice': y_pred_kaggle_test}, index=X_test.index)\n",
    "# ridge_predictions.to_csv('../data/submission_ridge.csv')\n",
    "\n",
    "# Ridge csv\n",
    "kaggle_predictions.to_csv('../data/submission_kaggle.csv')\n",
    "# Calculate metrics for Ridge Regression\n",
    "mae_kaggle_test = mean_absolute_error(y_test, y_pred_kaggle_test)\n",
    "r2_kaggle_test = r2_score(y_test, y_pred_kaggle_test)\n",
    "rmse_kaggle_test = np.sqrt(mean_squared_error(y_test, y_pred_kaggle_test))\n",
    "\n",
    "# Print kaggle result\n",
    "print(\"Kaggle Results:\")\n",
    "print(f'MAE (Test): {mae_kaggle_test:.2f}')\n",
    "print(f'R² (Test): {r2_kaggle_test:.4f}')\n",
    "print(f'RMSE (Test): {rmse_kaggle_test:.2f}')"
   ]
  },
  {
   "cell_type": "code",
   "execution_count": 109,
   "id": "6560104e-cbf8-41d8-8489-2efec8ffd7bf",
   "metadata": {
    "tags": []
   },
   "outputs": [],
   "source": [
    "# #Initializes a linear regression model\n",
    "# lr= LinearRegression()\n",
    "\n",
    "# #Fits the linear regression model to the training data\n",
    "# lr.fit(X_train, y_train)\n",
    "\n",
    "# #prints the mean cross-validation score for the training data.\n",
    "# print(cross_val_score(lr, X_train, y_train).mean())\n",
    "\n",
    "# #Prints the R-squared scores \n",
    "# lr.score(X_train, y_train), lr.score(X_test, y_test)"
   ]
  },
  {
   "cell_type": "markdown",
   "id": "6f5017d2-b37f-46f6-ad7b-4c5ca2ad6b94",
   "metadata": {},
   "source": [
    "---\n",
    "\n",
    "### Generate predictions on test data"
   ]
  },
  {
   "cell_type": "code",
   "execution_count": 110,
   "id": "55b934f0-e620-447c-8fe6-2c8fd2eab14f",
   "metadata": {
    "tags": []
   },
   "outputs": [],
   "source": [
    "#generates prediction\n",
    "prediction_kaggle = lr.predict(X_train)\n"
   ]
  },
  {
   "cell_type": "code",
   "execution_count": 111,
   "id": "f2f7fb95-8028-4592-8e37-577e57a770b9",
   "metadata": {
    "tags": []
   },
   "outputs": [],
   "source": [
    "prediction_kaggle = prediction_kaggle[:len(df_cleaned)]\n",
    "df_cleaned.loc[:877, 'SalePrice'] = prediction_kaggle[:878]"
   ]
  },
  {
   "cell_type": "code",
   "execution_count": 112,
   "id": "b96e0aac-41cf-428b-96dd-58fce95a20b4",
   "metadata": {
    "tags": []
   },
   "outputs": [
    {
     "data": {
      "text/html": [
       "<div>\n",
       "<style scoped>\n",
       "    .dataframe tbody tr th:only-of-type {\n",
       "        vertical-align: middle;\n",
       "    }\n",
       "\n",
       "    .dataframe tbody tr th {\n",
       "        vertical-align: top;\n",
       "    }\n",
       "\n",
       "    .dataframe thead th {\n",
       "        text-align: right;\n",
       "    }\n",
       "</style>\n",
       "<table border=\"1\" class=\"dataframe\">\n",
       "  <thead>\n",
       "    <tr style=\"text-align: right;\">\n",
       "      <th></th>\n",
       "      <th>Id</th>\n",
       "      <th>PID</th>\n",
       "      <th>MS_SubClass</th>\n",
       "      <th>MS_Zoning</th>\n",
       "      <th>Lot_Frontage</th>\n",
       "      <th>Lot_Area</th>\n",
       "      <th>Street</th>\n",
       "      <th>Alley</th>\n",
       "      <th>Lot_Shape</th>\n",
       "      <th>Land_Contour</th>\n",
       "      <th>...</th>\n",
       "      <th>Neighborhood_OldTown</th>\n",
       "      <th>Neighborhood_SWISU</th>\n",
       "      <th>Neighborhood_Sawyer</th>\n",
       "      <th>Neighborhood_SawyerW</th>\n",
       "      <th>Neighborhood_Somerst</th>\n",
       "      <th>Neighborhood_StoneBr</th>\n",
       "      <th>Neighborhood_Timber</th>\n",
       "      <th>Neighborhood_Veenker</th>\n",
       "      <th>interaction_total_bathrooms</th>\n",
       "      <th>Garage_Interaction</th>\n",
       "    </tr>\n",
       "  </thead>\n",
       "  <tbody>\n",
       "    <tr>\n",
       "      <th>0</th>\n",
       "      <td>109</td>\n",
       "      <td>533352170</td>\n",
       "      <td>60</td>\n",
       "      <td>RL</td>\n",
       "      <td>69.0552</td>\n",
       "      <td>13517</td>\n",
       "      <td>Pave</td>\n",
       "      <td>NaN</td>\n",
       "      <td>IR1</td>\n",
       "      <td>Lvl</td>\n",
       "      <td>...</td>\n",
       "      <td>0</td>\n",
       "      <td>0</td>\n",
       "      <td>1</td>\n",
       "      <td>0</td>\n",
       "      <td>0</td>\n",
       "      <td>0</td>\n",
       "      <td>0</td>\n",
       "      <td>0</td>\n",
       "      <td>2.5</td>\n",
       "      <td>950.0</td>\n",
       "    </tr>\n",
       "    <tr>\n",
       "      <th>1</th>\n",
       "      <td>544</td>\n",
       "      <td>531379050</td>\n",
       "      <td>60</td>\n",
       "      <td>RL</td>\n",
       "      <td>43.0000</td>\n",
       "      <td>11492</td>\n",
       "      <td>Pave</td>\n",
       "      <td>NaN</td>\n",
       "      <td>IR1</td>\n",
       "      <td>Lvl</td>\n",
       "      <td>...</td>\n",
       "      <td>0</td>\n",
       "      <td>0</td>\n",
       "      <td>0</td>\n",
       "      <td>1</td>\n",
       "      <td>0</td>\n",
       "      <td>0</td>\n",
       "      <td>0</td>\n",
       "      <td>0</td>\n",
       "      <td>3.5</td>\n",
       "      <td>1118.0</td>\n",
       "    </tr>\n",
       "    <tr>\n",
       "      <th>2</th>\n",
       "      <td>153</td>\n",
       "      <td>535304180</td>\n",
       "      <td>20</td>\n",
       "      <td>RL</td>\n",
       "      <td>68.0000</td>\n",
       "      <td>7922</td>\n",
       "      <td>Pave</td>\n",
       "      <td>NaN</td>\n",
       "      <td>Reg</td>\n",
       "      <td>Lvl</td>\n",
       "      <td>...</td>\n",
       "      <td>0</td>\n",
       "      <td>0</td>\n",
       "      <td>0</td>\n",
       "      <td>0</td>\n",
       "      <td>0</td>\n",
       "      <td>0</td>\n",
       "      <td>0</td>\n",
       "      <td>0</td>\n",
       "      <td>2.0</td>\n",
       "      <td>246.0</td>\n",
       "    </tr>\n",
       "    <tr>\n",
       "      <th>3</th>\n",
       "      <td>318</td>\n",
       "      <td>916386060</td>\n",
       "      <td>60</td>\n",
       "      <td>RL</td>\n",
       "      <td>73.0000</td>\n",
       "      <td>9802</td>\n",
       "      <td>Pave</td>\n",
       "      <td>NaN</td>\n",
       "      <td>Reg</td>\n",
       "      <td>Lvl</td>\n",
       "      <td>...</td>\n",
       "      <td>0</td>\n",
       "      <td>0</td>\n",
       "      <td>0</td>\n",
       "      <td>0</td>\n",
       "      <td>0</td>\n",
       "      <td>0</td>\n",
       "      <td>1</td>\n",
       "      <td>0</td>\n",
       "      <td>2.5</td>\n",
       "      <td>800.0</td>\n",
       "    </tr>\n",
       "    <tr>\n",
       "      <th>4</th>\n",
       "      <td>255</td>\n",
       "      <td>906425045</td>\n",
       "      <td>50</td>\n",
       "      <td>RL</td>\n",
       "      <td>82.0000</td>\n",
       "      <td>14235</td>\n",
       "      <td>Pave</td>\n",
       "      <td>NaN</td>\n",
       "      <td>IR1</td>\n",
       "      <td>Lvl</td>\n",
       "      <td>...</td>\n",
       "      <td>0</td>\n",
       "      <td>0</td>\n",
       "      <td>0</td>\n",
       "      <td>1</td>\n",
       "      <td>0</td>\n",
       "      <td>0</td>\n",
       "      <td>0</td>\n",
       "      <td>0</td>\n",
       "      <td>2.0</td>\n",
       "      <td>968.0</td>\n",
       "    </tr>\n",
       "  </tbody>\n",
       "</table>\n",
       "<p>5 rows × 96 columns</p>\n",
       "</div>"
      ],
      "text/plain": [
       "    Id        PID  MS_SubClass MS_Zoning  Lot_Frontage  Lot_Area Street Alley  \\\n",
       "0  109  533352170           60        RL       69.0552     13517   Pave   NaN   \n",
       "1  544  531379050           60        RL       43.0000     11492   Pave   NaN   \n",
       "2  153  535304180           20        RL       68.0000      7922   Pave   NaN   \n",
       "3  318  916386060           60        RL       73.0000      9802   Pave   NaN   \n",
       "4  255  906425045           50        RL       82.0000     14235   Pave   NaN   \n",
       "\n",
       "  Lot_Shape Land_Contour  ... Neighborhood_OldTown Neighborhood_SWISU  \\\n",
       "0       IR1          Lvl  ...                    0                  0   \n",
       "1       IR1          Lvl  ...                    0                  0   \n",
       "2       Reg          Lvl  ...                    0                  0   \n",
       "3       Reg          Lvl  ...                    0                  0   \n",
       "4       IR1          Lvl  ...                    0                  0   \n",
       "\n",
       "  Neighborhood_Sawyer Neighborhood_SawyerW Neighborhood_Somerst  \\\n",
       "0                   1                    0                    0   \n",
       "1                   0                    1                    0   \n",
       "2                   0                    0                    0   \n",
       "3                   0                    0                    0   \n",
       "4                   0                    1                    0   \n",
       "\n",
       "  Neighborhood_StoneBr Neighborhood_Timber Neighborhood_Veenker  \\\n",
       "0                    0                   0                    0   \n",
       "1                    0                   0                    0   \n",
       "2                    0                   0                    0   \n",
       "3                    0                   1                    0   \n",
       "4                    0                   0                    0   \n",
       "\n",
       "   interaction_total_bathrooms  Garage_Interaction  \n",
       "0                          2.5               950.0  \n",
       "1                          3.5              1118.0  \n",
       "2                          2.0               246.0  \n",
       "3                          2.5               800.0  \n",
       "4                          2.0               968.0  \n",
       "\n",
       "[5 rows x 96 columns]"
      ]
     },
     "execution_count": 112,
     "metadata": {},
     "output_type": "execute_result"
    }
   ],
   "source": [
    "df_cleaned.head()"
   ]
  },
  {
   "cell_type": "code",
   "execution_count": 113,
   "id": "766a23a1-24e9-4f70-842b-efa8d02ddb76",
   "metadata": {
    "tags": []
   },
   "outputs": [],
   "source": [
    "submission_df = df_cleaned[['Id', 'SalePrice']]"
   ]
  },
  {
   "cell_type": "code",
   "execution_count": 87,
   "id": "ee3ccfdf-4cca-4799-842b-4ffb22fa06e4",
   "metadata": {
    "tags": []
   },
   "outputs": [],
   "source": [
    "#Save prediction to CSV\n",
    "\n",
    "#submission_df.to_csv('AA6prediction.csv', index=False)"
   ]
  },
  {
   "cell_type": "code",
   "execution_count": 58,
   "id": "f2e4b0a2-66fd-4e73-ae21-f2535b5e0165",
   "metadata": {},
   "outputs": [],
   "source": []
  },
  {
   "cell_type": "code",
   "execution_count": null,
   "id": "d51c41fd-6a8a-4e62-8aaf-d8b76b7afd40",
   "metadata": {},
   "outputs": [],
   "source": []
  }
 ],
 "metadata": {
  "kernelspec": {
   "display_name": "Python 3 (ipykernel)",
   "language": "python",
   "name": "python3"
  },
  "language_info": {
   "codemirror_mode": {
    "name": "ipython",
    "version": 3
   },
   "file_extension": ".py",
   "mimetype": "text/x-python",
   "name": "python",
   "nbconvert_exporter": "python",
   "pygments_lexer": "ipython3",
   "version": "3.11.5"
  }
 },
 "nbformat": 4,
 "nbformat_minor": 5
}
