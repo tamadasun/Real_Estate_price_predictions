{
 "cells": [
  {
   "cell_type": "markdown",
   "id": "6d914d35-faaf-42f5-916b-86a4a3f5a429",
   "metadata": {},
   "source": [
    "# Model Tuning"
   ]
  },
  {
   "cell_type": "markdown",
   "id": "5de8916b-1fdf-4231-8937-7c4cf17c36c4",
   "metadata": {},
   "source": [
    "Anthony Amadasun\n",
    "\n",
    "December 15th 20223"
   ]
  },
  {
   "cell_type": "markdown",
   "id": "a90f5f41-98a6-4365-868c-6b4751698ab2",
   "metadata": {},
   "source": [
    "---\n",
    "\n",
    "### Introduction\n",
    "\n",
    "In this section of the notebook, I will focus on refining our predictive models to achieve optimal performance. The primary objectives include fine-tuning hyperparameters, revisiting feature selection, and ultimately identifying a production-ready model. The objective are found below:\n",
    "\n",
    "- Hyperparameter Tuning/Feature Removal: implement strategies to optimize model performance.\n",
    "- Model Evaluation: Analyze the tuned models and compare their performance using relevant metrics.\n",
    "- Identify a Production Model: Choose the model that best aligns with the problem statement and dataset.\n"
   ]
  },
  {
   "cell_type": "markdown",
   "id": "686acfd4-605c-4890-ae09-442197d9e6df",
   "metadata": {
    "tags": []
   },
   "source": [
    "---\n",
    "\n",
    "### Importing Libraries"
   ]
  },
  {
   "cell_type": "code",
   "execution_count": 1,
   "id": "011c57ff-7c39-475f-adc4-8fa494709044",
   "metadata": {
    "tags": []
   },
   "outputs": [],
   "source": [
    "import pandas as pd\n",
    "import numpy as np\n",
    "import seaborn as sns\n",
    "import matplotlib as plt\n",
    "\n",
    "from sklearn.metrics import mean_squared_error, mean_absolute_error, r2_score\n",
    "from sklearn.linear_model import LinearRegression, Ridge, Lasso, RidgeCV\n",
    "from sklearn.model_selection import train_test_split, cross_val_score, GridSearchCV\n",
    "from sklearn.preprocessing import StandardScaler, PolynomialFeatures"
   ]
  },
  {
   "cell_type": "markdown",
   "id": "a0768e21-d4e9-466c-865f-81479c20fcd8",
   "metadata": {
    "tags": []
   },
   "source": [
    "---\n",
    "\n",
    "### Load in Data"
   ]
  },
  {
   "cell_type": "code",
   "execution_count": 2,
   "id": "917bb42b-c37a-418a-9d84-1f77068dd469",
   "metadata": {
    "tags": []
   },
   "outputs": [],
   "source": [
    "# load preprocessed data\n",
    "df_cleaned = pd.read_csv('../data/test_clean3.csv')\n",
    "file_path_train = '../data/train.csv'\n",
    "df_train = pd.read_csv(file_path_train)"
   ]
  },
  {
   "cell_type": "markdown",
   "id": "01056e7e-1519-46e5-9c5b-ce14c9b14639",
   "metadata": {},
   "source": [
    "---\n",
    "\n",
    "### Hyperparameter Tuning/Feature Removal"
   ]
  },
  {
   "cell_type": "code",
   "execution_count": 3,
   "id": "6dd76f4a-8be1-4c48-bc50-4a837594b65b",
   "metadata": {
    "tags": []
   },
   "outputs": [],
   "source": [
    "# Create interaction term to optimize model\n",
    "df_cleaned['Garage_Interaction'] = df_cleaned['Garage_Cars'] * df_cleaned['Garage_Area']\n"
   ]
  },
  {
   "cell_type": "code",
   "execution_count": 4,
   "id": "65881988-6a22-4147-af4b-cd9eb35d4500",
   "metadata": {
    "tags": []
   },
   "outputs": [],
   "source": [
    "#Feature Removal\n",
    "df_cleaned = df_cleaned.drop(['Garage_Cars', 'Garage_Area', \n",
    "                              'Fireplaces', 'TotRms_AbvGrd'], axis=1)"
   ]
  },
  {
   "cell_type": "code",
   "execution_count": 5,
   "id": "9ce01dca-08b7-4ba3-8494-2812c53c6846",
   "metadata": {
    "tags": []
   },
   "outputs": [],
   "source": [
    "numeric_columns = df_cleaned.select_dtypes(include=['number']).columns\n"
   ]
  },
  {
   "cell_type": "code",
   "execution_count": 6,
   "id": "7d4ee470-aef6-433a-a6f2-2b6dd6485aca",
   "metadata": {
    "tags": []
   },
   "outputs": [
    {
     "data": {
      "text/html": [
       "<div>\n",
       "<style scoped>\n",
       "    .dataframe tbody tr th:only-of-type {\n",
       "        vertical-align: middle;\n",
       "    }\n",
       "\n",
       "    .dataframe tbody tr th {\n",
       "        vertical-align: top;\n",
       "    }\n",
       "\n",
       "    .dataframe thead th {\n",
       "        text-align: right;\n",
       "    }\n",
       "</style>\n",
       "<table border=\"1\" class=\"dataframe\">\n",
       "  <thead>\n",
       "    <tr style=\"text-align: right;\">\n",
       "      <th></th>\n",
       "      <th>SalePrice</th>\n",
       "    </tr>\n",
       "  </thead>\n",
       "  <tbody>\n",
       "    <tr>\n",
       "      <th>SalePrice</th>\n",
       "      <td>1.000000</td>\n",
       "    </tr>\n",
       "    <tr>\n",
       "      <th>Overall_Qual</th>\n",
       "      <td>0.800207</td>\n",
       "    </tr>\n",
       "    <tr>\n",
       "      <th>Gr_Liv_Area</th>\n",
       "      <td>0.697038</td>\n",
       "    </tr>\n",
       "    <tr>\n",
       "      <th>Garage_Interaction</th>\n",
       "      <td>0.690596</td>\n",
       "    </tr>\n",
       "    <tr>\n",
       "      <th>interaction_total_bathrooms</th>\n",
       "      <td>0.630207</td>\n",
       "    </tr>\n",
       "    <tr>\n",
       "      <th>Year_Built</th>\n",
       "      <td>0.571849</td>\n",
       "    </tr>\n",
       "    <tr>\n",
       "      <th>Year_Remod/Add</th>\n",
       "      <td>0.550370</td>\n",
       "    </tr>\n",
       "    <tr>\n",
       "      <th>Mas_Vnr_Area</th>\n",
       "      <td>0.503579</td>\n",
       "    </tr>\n",
       "    <tr>\n",
       "      <th>Neighborhood_NridgHt</th>\n",
       "      <td>0.448647</td>\n",
       "    </tr>\n",
       "    <tr>\n",
       "      <th>Open_Porch_SF</th>\n",
       "      <td>0.333476</td>\n",
       "    </tr>\n",
       "    <tr>\n",
       "      <th>Wood_Deck_SF</th>\n",
       "      <td>0.326490</td>\n",
       "    </tr>\n",
       "    <tr>\n",
       "      <th>Lot_Frontage</th>\n",
       "      <td>0.325850</td>\n",
       "    </tr>\n",
       "    <tr>\n",
       "      <th>Lot_Area</th>\n",
       "      <td>0.296566</td>\n",
       "    </tr>\n",
       "    <tr>\n",
       "      <th>Neighborhood_NoRidge</th>\n",
       "      <td>0.263395</td>\n",
       "    </tr>\n",
       "    <tr>\n",
       "      <th>Garage_Yr_Blt</th>\n",
       "      <td>0.258645</td>\n",
       "    </tr>\n",
       "    <tr>\n",
       "      <th>Neighborhood_StoneBr</th>\n",
       "      <td>0.256977</td>\n",
       "    </tr>\n",
       "    <tr>\n",
       "      <th>Neighborhood_Somerst</th>\n",
       "      <td>0.150078</td>\n",
       "    </tr>\n",
       "    <tr>\n",
       "      <th>Bedroom_AbvGr</th>\n",
       "      <td>0.137067</td>\n",
       "    </tr>\n",
       "    <tr>\n",
       "      <th>Screen_Porch</th>\n",
       "      <td>0.134581</td>\n",
       "    </tr>\n",
       "    <tr>\n",
       "      <th>Neighborhood_Timber</th>\n",
       "      <td>0.116400</td>\n",
       "    </tr>\n",
       "    <tr>\n",
       "      <th>Neighborhood_Veenker</th>\n",
       "      <td>0.083186</td>\n",
       "    </tr>\n",
       "    <tr>\n",
       "      <th>Neighborhood_CollgCr</th>\n",
       "      <td>0.082309</td>\n",
       "    </tr>\n",
       "    <tr>\n",
       "      <th>Neighborhood_Crawfor</th>\n",
       "      <td>0.058386</td>\n",
       "    </tr>\n",
       "    <tr>\n",
       "      <th>Neighborhood_ClearCr</th>\n",
       "      <td>0.052503</td>\n",
       "    </tr>\n",
       "    <tr>\n",
       "      <th>3Ssn_Porch</th>\n",
       "      <td>0.048732</td>\n",
       "    </tr>\n",
       "    <tr>\n",
       "      <th>Neighborhood_GrnHill</th>\n",
       "      <td>0.038848</td>\n",
       "    </tr>\n",
       "    <tr>\n",
       "      <th>Neighborhood_NWAmes</th>\n",
       "      <td>0.034926</td>\n",
       "    </tr>\n",
       "    <tr>\n",
       "      <th>Mo_Sold</th>\n",
       "      <td>0.032735</td>\n",
       "    </tr>\n",
       "    <tr>\n",
       "      <th>Neighborhood_Blmngtn</th>\n",
       "      <td>0.024900</td>\n",
       "    </tr>\n",
       "    <tr>\n",
       "      <th>Neighborhood_Gilbert</th>\n",
       "      <td>0.023974</td>\n",
       "    </tr>\n",
       "    <tr>\n",
       "      <th>Pool_Area</th>\n",
       "      <td>0.023106</td>\n",
       "    </tr>\n",
       "    <tr>\n",
       "      <th>Neighborhood_SawyerW</th>\n",
       "      <td>0.016708</td>\n",
       "    </tr>\n",
       "    <tr>\n",
       "      <th>Neighborhood_Greens</th>\n",
       "      <td>0.003476</td>\n",
       "    </tr>\n",
       "    <tr>\n",
       "      <th>Misc_Val</th>\n",
       "      <td>-0.007375</td>\n",
       "    </tr>\n",
       "    <tr>\n",
       "      <th>Neighborhood_Landmrk</th>\n",
       "      <td>-0.012395</td>\n",
       "    </tr>\n",
       "    <tr>\n",
       "      <th>Yr_Sold</th>\n",
       "      <td>-0.015203</td>\n",
       "    </tr>\n",
       "    <tr>\n",
       "      <th>Neighborhood_Blueste</th>\n",
       "      <td>-0.025226</td>\n",
       "    </tr>\n",
       "    <tr>\n",
       "      <th>Neighborhood_Mitchel</th>\n",
       "      <td>-0.035574</td>\n",
       "    </tr>\n",
       "    <tr>\n",
       "      <th>Neighborhood_NPkVill</th>\n",
       "      <td>-0.047296</td>\n",
       "    </tr>\n",
       "    <tr>\n",
       "      <th>Id</th>\n",
       "      <td>-0.051398</td>\n",
       "    </tr>\n",
       "    <tr>\n",
       "      <th>Neighborhood_SWISU</th>\n",
       "      <td>-0.074214</td>\n",
       "    </tr>\n",
       "    <tr>\n",
       "      <th>MS_SubClass</th>\n",
       "      <td>-0.087335</td>\n",
       "    </tr>\n",
       "    <tr>\n",
       "      <th>Neighborhood_BrDale</th>\n",
       "      <td>-0.095305</td>\n",
       "    </tr>\n",
       "    <tr>\n",
       "      <th>Overall_Cond</th>\n",
       "      <td>-0.097019</td>\n",
       "    </tr>\n",
       "    <tr>\n",
       "      <th>Neighborhood_MeadowV</th>\n",
       "      <td>-0.111558</td>\n",
       "    </tr>\n",
       "    <tr>\n",
       "      <th>Kitchen_AbvGr</th>\n",
       "      <td>-0.125444</td>\n",
       "    </tr>\n",
       "    <tr>\n",
       "      <th>Neighborhood_Sawyer</th>\n",
       "      <td>-0.133692</td>\n",
       "    </tr>\n",
       "    <tr>\n",
       "      <th>Neighborhood_BrkSide</th>\n",
       "      <td>-0.134790</td>\n",
       "    </tr>\n",
       "    <tr>\n",
       "      <th>Enclosed_Porch</th>\n",
       "      <td>-0.135656</td>\n",
       "    </tr>\n",
       "    <tr>\n",
       "      <th>Neighborhood_Edwards</th>\n",
       "      <td>-0.176119</td>\n",
       "    </tr>\n",
       "    <tr>\n",
       "      <th>Neighborhood_IDOTRR</th>\n",
       "      <td>-0.189237</td>\n",
       "    </tr>\n",
       "    <tr>\n",
       "      <th>Neighborhood_NAmes</th>\n",
       "      <td>-0.189387</td>\n",
       "    </tr>\n",
       "    <tr>\n",
       "      <th>Neighborhood_OldTown</th>\n",
       "      <td>-0.208371</td>\n",
       "    </tr>\n",
       "    <tr>\n",
       "      <th>PID</th>\n",
       "      <td>-0.255052</td>\n",
       "    </tr>\n",
       "  </tbody>\n",
       "</table>\n",
       "</div>"
      ],
      "text/plain": [
       "                             SalePrice\n",
       "SalePrice                     1.000000\n",
       "Overall_Qual                  0.800207\n",
       "Gr_Liv_Area                   0.697038\n",
       "Garage_Interaction            0.690596\n",
       "interaction_total_bathrooms   0.630207\n",
       "Year_Built                    0.571849\n",
       "Year_Remod/Add                0.550370\n",
       "Mas_Vnr_Area                  0.503579\n",
       "Neighborhood_NridgHt          0.448647\n",
       "Open_Porch_SF                 0.333476\n",
       "Wood_Deck_SF                  0.326490\n",
       "Lot_Frontage                  0.325850\n",
       "Lot_Area                      0.296566\n",
       "Neighborhood_NoRidge          0.263395\n",
       "Garage_Yr_Blt                 0.258645\n",
       "Neighborhood_StoneBr          0.256977\n",
       "Neighborhood_Somerst          0.150078\n",
       "Bedroom_AbvGr                 0.137067\n",
       "Screen_Porch                  0.134581\n",
       "Neighborhood_Timber           0.116400\n",
       "Neighborhood_Veenker          0.083186\n",
       "Neighborhood_CollgCr          0.082309\n",
       "Neighborhood_Crawfor          0.058386\n",
       "Neighborhood_ClearCr          0.052503\n",
       "3Ssn_Porch                    0.048732\n",
       "Neighborhood_GrnHill          0.038848\n",
       "Neighborhood_NWAmes           0.034926\n",
       "Mo_Sold                       0.032735\n",
       "Neighborhood_Blmngtn          0.024900\n",
       "Neighborhood_Gilbert          0.023974\n",
       "Pool_Area                     0.023106\n",
       "Neighborhood_SawyerW          0.016708\n",
       "Neighborhood_Greens           0.003476\n",
       "Misc_Val                     -0.007375\n",
       "Neighborhood_Landmrk         -0.012395\n",
       "Yr_Sold                      -0.015203\n",
       "Neighborhood_Blueste         -0.025226\n",
       "Neighborhood_Mitchel         -0.035574\n",
       "Neighborhood_NPkVill         -0.047296\n",
       "Id                           -0.051398\n",
       "Neighborhood_SWISU           -0.074214\n",
       "MS_SubClass                  -0.087335\n",
       "Neighborhood_BrDale          -0.095305\n",
       "Overall_Cond                 -0.097019\n",
       "Neighborhood_MeadowV         -0.111558\n",
       "Kitchen_AbvGr                -0.125444\n",
       "Neighborhood_Sawyer          -0.133692\n",
       "Neighborhood_BrkSide         -0.134790\n",
       "Enclosed_Porch               -0.135656\n",
       "Neighborhood_Edwards         -0.176119\n",
       "Neighborhood_IDOTRR          -0.189237\n",
       "Neighborhood_NAmes           -0.189387\n",
       "Neighborhood_OldTown         -0.208371\n",
       "PID                          -0.255052"
      ]
     },
     "execution_count": 6,
     "metadata": {},
     "output_type": "execute_result"
    }
   ],
   "source": [
    "#tabular format\n",
    "df_cleaned[numeric_columns].corr()[['SalePrice']].sort_values(by= 'SalePrice', ascending= False)"
   ]
  },
  {
   "cell_type": "code",
   "execution_count": 7,
   "id": "917733cd-c5ad-479d-9867-f898946a6aa0",
   "metadata": {
    "tags": []
   },
   "outputs": [],
   "source": [
    "X = df_cleaned.select_dtypes(include=['float64', 'int64']).drop('SalePrice', axis=1)\n",
    "y = df_cleaned['SalePrice']"
   ]
  },
  {
   "cell_type": "code",
   "execution_count": 8,
   "id": "c4c09f40-b9fe-471e-bd69-9757eeef7695",
   "metadata": {
    "tags": []
   },
   "outputs": [],
   "source": [
    "X_train, X_test, y_train, y_test = train_test_split(X, y, \n",
    "                                                    test_size=0.2, \n",
    "                                                    random_state=42)"
   ]
  },
  {
   "cell_type": "code",
   "execution_count": 9,
   "id": "f11d7ac3-7ad5-4350-85dc-62c72b589a86",
   "metadata": {
    "tags": []
   },
   "outputs": [],
   "source": [
    "# Scale our data.\n",
    "scaler = StandardScaler()\n",
    "\n",
    "# Fit/transform from training to learn mean, stdev. \n",
    "#and then transform both using things learned from training\n",
    "Z_train = scaler.fit_transform(X_train)\n",
    "Z_test = scaler.transform(X_test)"
   ]
  },
  {
   "cell_type": "markdown",
   "id": "1f704be9-1ee5-45e1-a018-9268d0158f7c",
   "metadata": {},
   "source": [
    "**Tuned Ridge Model**"
   ]
  },
  {
   "cell_type": "code",
   "execution_count": 10,
   "id": "b2dafc28-bacf-44ad-9211-930b60a49b21",
   "metadata": {
    "tags": []
   },
   "outputs": [],
   "source": [
    "#logic for hyperparater tuning attained from leson 4.06 and \n",
    "#article by Tara Boyle https://towardsdatascience.com/linear-regression-models-4a3d14b8d368\n",
    "#Define the hyperparameter grid for Ridge model\n",
    "#in data preprocessing, already have an idea, what the optimal alha is\n",
    "param_grid = {'alpha': [1, 10, 100, 200, 300]}"
   ]
  },
  {
   "cell_type": "code",
   "execution_count": 11,
   "id": "75282662-55ab-4d44-9794-146a385e4133",
   "metadata": {
    "tags": []
   },
   "outputs": [],
   "source": [
    "# Create the Ridge model\n",
    "ridge_model = Ridge()"
   ]
  },
  {
   "cell_type": "code",
   "execution_count": 12,
   "id": "881392fb-b427-46a6-8d05-6af45209b6bc",
   "metadata": {
    "tags": []
   },
   "outputs": [],
   "source": [
    "# search through the hyperparameter grid \n",
    "# and find the best combination thatreduced the negative mse\n",
    "grid_search = GridSearchCV(estimator=ridge_model, param_grid=param_grid, scoring='neg_mean_squared_error', cv=5)\n"
   ]
  },
  {
   "cell_type": "code",
   "execution_count": 13,
   "id": "81fa487c-d471-4c66-a7ee-7412241b39f8",
   "metadata": {
    "tags": []
   },
   "outputs": [
    {
     "data": {
      "text/html": [
       "<style>#sk-container-id-1 {color: black;}#sk-container-id-1 pre{padding: 0;}#sk-container-id-1 div.sk-toggleable {background-color: white;}#sk-container-id-1 label.sk-toggleable__label {cursor: pointer;display: block;width: 100%;margin-bottom: 0;padding: 0.3em;box-sizing: border-box;text-align: center;}#sk-container-id-1 label.sk-toggleable__label-arrow:before {content: \"▸\";float: left;margin-right: 0.25em;color: #696969;}#sk-container-id-1 label.sk-toggleable__label-arrow:hover:before {color: black;}#sk-container-id-1 div.sk-estimator:hover label.sk-toggleable__label-arrow:before {color: black;}#sk-container-id-1 div.sk-toggleable__content {max-height: 0;max-width: 0;overflow: hidden;text-align: left;background-color: #f0f8ff;}#sk-container-id-1 div.sk-toggleable__content pre {margin: 0.2em;color: black;border-radius: 0.25em;background-color: #f0f8ff;}#sk-container-id-1 input.sk-toggleable__control:checked~div.sk-toggleable__content {max-height: 200px;max-width: 100%;overflow: auto;}#sk-container-id-1 input.sk-toggleable__control:checked~label.sk-toggleable__label-arrow:before {content: \"▾\";}#sk-container-id-1 div.sk-estimator input.sk-toggleable__control:checked~label.sk-toggleable__label {background-color: #d4ebff;}#sk-container-id-1 div.sk-label input.sk-toggleable__control:checked~label.sk-toggleable__label {background-color: #d4ebff;}#sk-container-id-1 input.sk-hidden--visually {border: 0;clip: rect(1px 1px 1px 1px);clip: rect(1px, 1px, 1px, 1px);height: 1px;margin: -1px;overflow: hidden;padding: 0;position: absolute;width: 1px;}#sk-container-id-1 div.sk-estimator {font-family: monospace;background-color: #f0f8ff;border: 1px dotted black;border-radius: 0.25em;box-sizing: border-box;margin-bottom: 0.5em;}#sk-container-id-1 div.sk-estimator:hover {background-color: #d4ebff;}#sk-container-id-1 div.sk-parallel-item::after {content: \"\";width: 100%;border-bottom: 1px solid gray;flex-grow: 1;}#sk-container-id-1 div.sk-label:hover label.sk-toggleable__label {background-color: #d4ebff;}#sk-container-id-1 div.sk-serial::before {content: \"\";position: absolute;border-left: 1px solid gray;box-sizing: border-box;top: 0;bottom: 0;left: 50%;z-index: 0;}#sk-container-id-1 div.sk-serial {display: flex;flex-direction: column;align-items: center;background-color: white;padding-right: 0.2em;padding-left: 0.2em;position: relative;}#sk-container-id-1 div.sk-item {position: relative;z-index: 1;}#sk-container-id-1 div.sk-parallel {display: flex;align-items: stretch;justify-content: center;background-color: white;position: relative;}#sk-container-id-1 div.sk-item::before, #sk-container-id-1 div.sk-parallel-item::before {content: \"\";position: absolute;border-left: 1px solid gray;box-sizing: border-box;top: 0;bottom: 0;left: 50%;z-index: -1;}#sk-container-id-1 div.sk-parallel-item {display: flex;flex-direction: column;z-index: 1;position: relative;background-color: white;}#sk-container-id-1 div.sk-parallel-item:first-child::after {align-self: flex-end;width: 50%;}#sk-container-id-1 div.sk-parallel-item:last-child::after {align-self: flex-start;width: 50%;}#sk-container-id-1 div.sk-parallel-item:only-child::after {width: 0;}#sk-container-id-1 div.sk-dashed-wrapped {border: 1px dashed gray;margin: 0 0.4em 0.5em 0.4em;box-sizing: border-box;padding-bottom: 0.4em;background-color: white;}#sk-container-id-1 div.sk-label label {font-family: monospace;font-weight: bold;display: inline-block;line-height: 1.2em;}#sk-container-id-1 div.sk-label-container {text-align: center;}#sk-container-id-1 div.sk-container {/* jupyter's `normalize.less` sets `[hidden] { display: none; }` but bootstrap.min.css set `[hidden] { display: none !important; }` so we also need the `!important` here to be able to override the default hidden behavior on the sphinx rendered scikit-learn.org. See: https://github.com/scikit-learn/scikit-learn/issues/21755 */display: inline-block !important;position: relative;}#sk-container-id-1 div.sk-text-repr-fallback {display: none;}</style><div id=\"sk-container-id-1\" class=\"sk-top-container\"><div class=\"sk-text-repr-fallback\"><pre>GridSearchCV(cv=5, estimator=Ridge(),\n",
       "             param_grid={&#x27;alpha&#x27;: [1, 10, 100, 200, 300]},\n",
       "             scoring=&#x27;neg_mean_squared_error&#x27;)</pre><b>In a Jupyter environment, please rerun this cell to show the HTML representation or trust the notebook. <br />On GitHub, the HTML representation is unable to render, please try loading this page with nbviewer.org.</b></div><div class=\"sk-container\" hidden><div class=\"sk-item sk-dashed-wrapped\"><div class=\"sk-label-container\"><div class=\"sk-label sk-toggleable\"><input class=\"sk-toggleable__control sk-hidden--visually\" id=\"sk-estimator-id-1\" type=\"checkbox\" ><label for=\"sk-estimator-id-1\" class=\"sk-toggleable__label sk-toggleable__label-arrow\">GridSearchCV</label><div class=\"sk-toggleable__content\"><pre>GridSearchCV(cv=5, estimator=Ridge(),\n",
       "             param_grid={&#x27;alpha&#x27;: [1, 10, 100, 200, 300]},\n",
       "             scoring=&#x27;neg_mean_squared_error&#x27;)</pre></div></div></div><div class=\"sk-parallel\"><div class=\"sk-parallel-item\"><div class=\"sk-item\"><div class=\"sk-label-container\"><div class=\"sk-label sk-toggleable\"><input class=\"sk-toggleable__control sk-hidden--visually\" id=\"sk-estimator-id-2\" type=\"checkbox\" ><label for=\"sk-estimator-id-2\" class=\"sk-toggleable__label sk-toggleable__label-arrow\">estimator: Ridge</label><div class=\"sk-toggleable__content\"><pre>Ridge()</pre></div></div></div><div class=\"sk-serial\"><div class=\"sk-item\"><div class=\"sk-estimator sk-toggleable\"><input class=\"sk-toggleable__control sk-hidden--visually\" id=\"sk-estimator-id-3\" type=\"checkbox\" ><label for=\"sk-estimator-id-3\" class=\"sk-toggleable__label sk-toggleable__label-arrow\">Ridge</label><div class=\"sk-toggleable__content\"><pre>Ridge()</pre></div></div></div></div></div></div></div></div></div></div>"
      ],
      "text/plain": [
       "GridSearchCV(cv=5, estimator=Ridge(),\n",
       "             param_grid={'alpha': [1, 10, 100, 200, 300]},\n",
       "             scoring='neg_mean_squared_error')"
      ]
     },
     "execution_count": 13,
     "metadata": {},
     "output_type": "execute_result"
    }
   ],
   "source": [
    "# Fit the grid search\n",
    "grid_search.fit(Z_train, y_train)"
   ]
  },
  {
   "cell_type": "code",
   "execution_count": 14,
   "id": "486c4fc0-6040-4bf6-a7b3-c513d9405418",
   "metadata": {
    "tags": []
   },
   "outputs": [
    {
     "name": "stdout",
     "output_type": "stream",
     "text": [
      "Best Hyperparameters: {'alpha': 100}\n"
     ]
    }
   ],
   "source": [
    "# select best hyperparameters \n",
    "best_params = grid_search.best_params_\n",
    "print(f'Best Hyperparameters: {best_params}')"
   ]
  },
  {
   "cell_type": "code",
   "execution_count": 15,
   "id": "82846afe-697d-4ada-a199-dfb4d0a045bd",
   "metadata": {
    "tags": []
   },
   "outputs": [],
   "source": [
    "# use best model for predictions\n",
    "best_ridge_model = grid_search.best_estimator_\n",
    "y_pred_train = best_ridge_model.predict(Z_train)\n",
    "y_pred_test = best_ridge_model.predict(Z_test)"
   ]
  },
  {
   "cell_type": "code",
   "execution_count": 16,
   "id": "3a58b22b-c1bf-486f-8b35-6de8d9fff0fc",
   "metadata": {
    "tags": []
   },
   "outputs": [],
   "source": [
    "# Evaluate the tuned model's performance\n",
    "mae_test = mean_absolute_error(y_test, y_pred_test)\n",
    "r2_test = r2_score(y_test, y_pred_test)\n",
    "rmse_ridge_train = np.sqrt(mean_squared_error(y_train, y_pred_train))\n",
    "rmse_ridge_test = np.sqrt(mean_squared_error(y_test, y_pred_test))"
   ]
  },
  {
   "cell_type": "code",
   "execution_count": 17,
   "id": "1da7f57a-0954-4632-a9f4-bbe5b7bd7816",
   "metadata": {
    "tags": []
   },
   "outputs": [
    {
     "name": "stdout",
     "output_type": "stream",
     "text": [
      "Tuned Ridge Regression Results:\n",
      "MAE (Test): 19930.94\n",
      "R² (Test): 0.8655\n",
      "RMSE (Train): 29628.60\n",
      "RMSE: (Test): 28272.03\n"
     ]
    }
   ],
   "source": [
    "print(f'Tuned Ridge Regression Results:')\n",
    "print(f'MAE (Test): {mae_test:.2f}')\n",
    "print(f'R² (Test): {r2_test:.4f}')\n",
    "print(f'RMSE (Train): {rmse_ridge_train:.2f}')\n",
    "print(f'RMSE: (Test): {rmse_ridge_test:.2f}')"
   ]
  },
  {
   "cell_type": "markdown",
   "id": "25d4eb0a-db23-48fe-89a6-0f7273c59eb6",
   "metadata": {},
   "source": [
    "**Tuned Lasso Model**"
   ]
  },
  {
   "cell_type": "code",
   "execution_count": 18,
   "id": "8cc81eaf-2e38-43b6-9dde-e7bfb0ffe7de",
   "metadata": {
    "tags": []
   },
   "outputs": [],
   "source": [
    "#define the hyperparameter grid for Lasso Regression\n",
    "lasso_param_grid = {'alpha': [1, 10, 100, 500, 1000]}"
   ]
  },
  {
   "cell_type": "code",
   "execution_count": 19,
   "id": "178262e3-4bc9-47e4-8501-43199cb530ad",
   "metadata": {
    "tags": []
   },
   "outputs": [],
   "source": [
    "#Create the Lasso  model\n",
    "lasso_model = Lasso()"
   ]
  },
  {
   "cell_type": "code",
   "execution_count": 20,
   "id": "825e406e-ba7a-48a6-9c26-72a62ba59284",
   "metadata": {
    "tags": []
   },
   "outputs": [],
   "source": [
    "#search through the hyperparameter grid \n",
    "# and find the best combination thatreduced the negative mse\n",
    "lasso_grid_search = GridSearchCV(estimator=lasso_model, param_grid=lasso_param_grid, scoring='neg_mean_squared_error', cv=5)"
   ]
  },
  {
   "cell_type": "code",
   "execution_count": 21,
   "id": "ca3515c3-3fdd-4b67-aa49-e501610ef74e",
   "metadata": {
    "tags": []
   },
   "outputs": [
    {
     "name": "stderr",
     "output_type": "stream",
     "text": [
      "/Users/aamad_000/anaconda3/lib/python3.11/site-packages/sklearn/linear_model/_coordinate_descent.py:628: ConvergenceWarning: Objective did not converge. You might want to increase the number of iterations, check the scale of the features or consider increasing regularisation. Duality gap: 7.858e+10, tolerance: 8.239e+08\n",
      "  model = cd_fast.enet_coordinate_descent(\n",
      "/Users/aamad_000/anaconda3/lib/python3.11/site-packages/sklearn/linear_model/_coordinate_descent.py:628: ConvergenceWarning: Objective did not converge. You might want to increase the number of iterations, check the scale of the features or consider increasing regularisation. Duality gap: 4.700e+10, tolerance: 8.513e+08\n",
      "  model = cd_fast.enet_coordinate_descent(\n",
      "/Users/aamad_000/anaconda3/lib/python3.11/site-packages/sklearn/linear_model/_coordinate_descent.py:628: ConvergenceWarning: Objective did not converge. You might want to increase the number of iterations, check the scale of the features or consider increasing regularisation. Duality gap: 4.349e+10, tolerance: 8.265e+08\n",
      "  model = cd_fast.enet_coordinate_descent(\n",
      "/Users/aamad_000/anaconda3/lib/python3.11/site-packages/sklearn/linear_model/_coordinate_descent.py:628: ConvergenceWarning: Objective did not converge. You might want to increase the number of iterations, check the scale of the features or consider increasing regularisation. Duality gap: 7.466e+10, tolerance: 7.975e+08\n",
      "  model = cd_fast.enet_coordinate_descent(\n",
      "/Users/aamad_000/anaconda3/lib/python3.11/site-packages/sklearn/linear_model/_coordinate_descent.py:628: ConvergenceWarning: Objective did not converge. You might want to increase the number of iterations, check the scale of the features or consider increasing regularisation. Duality gap: 3.148e+10, tolerance: 8.747e+08\n",
      "  model = cd_fast.enet_coordinate_descent(\n",
      "/Users/aamad_000/anaconda3/lib/python3.11/site-packages/sklearn/linear_model/_coordinate_descent.py:628: ConvergenceWarning: Objective did not converge. You might want to increase the number of iterations, check the scale of the features or consider increasing regularisation. Duality gap: 1.693e+09, tolerance: 8.239e+08\n",
      "  model = cd_fast.enet_coordinate_descent(\n",
      "/Users/aamad_000/anaconda3/lib/python3.11/site-packages/sklearn/linear_model/_coordinate_descent.py:628: ConvergenceWarning: Objective did not converge. You might want to increase the number of iterations, check the scale of the features or consider increasing regularisation. Duality gap: 9.527e+08, tolerance: 8.747e+08\n",
      "  model = cd_fast.enet_coordinate_descent(\n"
     ]
    },
    {
     "data": {
      "text/html": [
       "<style>#sk-container-id-2 {color: black;}#sk-container-id-2 pre{padding: 0;}#sk-container-id-2 div.sk-toggleable {background-color: white;}#sk-container-id-2 label.sk-toggleable__label {cursor: pointer;display: block;width: 100%;margin-bottom: 0;padding: 0.3em;box-sizing: border-box;text-align: center;}#sk-container-id-2 label.sk-toggleable__label-arrow:before {content: \"▸\";float: left;margin-right: 0.25em;color: #696969;}#sk-container-id-2 label.sk-toggleable__label-arrow:hover:before {color: black;}#sk-container-id-2 div.sk-estimator:hover label.sk-toggleable__label-arrow:before {color: black;}#sk-container-id-2 div.sk-toggleable__content {max-height: 0;max-width: 0;overflow: hidden;text-align: left;background-color: #f0f8ff;}#sk-container-id-2 div.sk-toggleable__content pre {margin: 0.2em;color: black;border-radius: 0.25em;background-color: #f0f8ff;}#sk-container-id-2 input.sk-toggleable__control:checked~div.sk-toggleable__content {max-height: 200px;max-width: 100%;overflow: auto;}#sk-container-id-2 input.sk-toggleable__control:checked~label.sk-toggleable__label-arrow:before {content: \"▾\";}#sk-container-id-2 div.sk-estimator input.sk-toggleable__control:checked~label.sk-toggleable__label {background-color: #d4ebff;}#sk-container-id-2 div.sk-label input.sk-toggleable__control:checked~label.sk-toggleable__label {background-color: #d4ebff;}#sk-container-id-2 input.sk-hidden--visually {border: 0;clip: rect(1px 1px 1px 1px);clip: rect(1px, 1px, 1px, 1px);height: 1px;margin: -1px;overflow: hidden;padding: 0;position: absolute;width: 1px;}#sk-container-id-2 div.sk-estimator {font-family: monospace;background-color: #f0f8ff;border: 1px dotted black;border-radius: 0.25em;box-sizing: border-box;margin-bottom: 0.5em;}#sk-container-id-2 div.sk-estimator:hover {background-color: #d4ebff;}#sk-container-id-2 div.sk-parallel-item::after {content: \"\";width: 100%;border-bottom: 1px solid gray;flex-grow: 1;}#sk-container-id-2 div.sk-label:hover label.sk-toggleable__label {background-color: #d4ebff;}#sk-container-id-2 div.sk-serial::before {content: \"\";position: absolute;border-left: 1px solid gray;box-sizing: border-box;top: 0;bottom: 0;left: 50%;z-index: 0;}#sk-container-id-2 div.sk-serial {display: flex;flex-direction: column;align-items: center;background-color: white;padding-right: 0.2em;padding-left: 0.2em;position: relative;}#sk-container-id-2 div.sk-item {position: relative;z-index: 1;}#sk-container-id-2 div.sk-parallel {display: flex;align-items: stretch;justify-content: center;background-color: white;position: relative;}#sk-container-id-2 div.sk-item::before, #sk-container-id-2 div.sk-parallel-item::before {content: \"\";position: absolute;border-left: 1px solid gray;box-sizing: border-box;top: 0;bottom: 0;left: 50%;z-index: -1;}#sk-container-id-2 div.sk-parallel-item {display: flex;flex-direction: column;z-index: 1;position: relative;background-color: white;}#sk-container-id-2 div.sk-parallel-item:first-child::after {align-self: flex-end;width: 50%;}#sk-container-id-2 div.sk-parallel-item:last-child::after {align-self: flex-start;width: 50%;}#sk-container-id-2 div.sk-parallel-item:only-child::after {width: 0;}#sk-container-id-2 div.sk-dashed-wrapped {border: 1px dashed gray;margin: 0 0.4em 0.5em 0.4em;box-sizing: border-box;padding-bottom: 0.4em;background-color: white;}#sk-container-id-2 div.sk-label label {font-family: monospace;font-weight: bold;display: inline-block;line-height: 1.2em;}#sk-container-id-2 div.sk-label-container {text-align: center;}#sk-container-id-2 div.sk-container {/* jupyter's `normalize.less` sets `[hidden] { display: none; }` but bootstrap.min.css set `[hidden] { display: none !important; }` so we also need the `!important` here to be able to override the default hidden behavior on the sphinx rendered scikit-learn.org. See: https://github.com/scikit-learn/scikit-learn/issues/21755 */display: inline-block !important;position: relative;}#sk-container-id-2 div.sk-text-repr-fallback {display: none;}</style><div id=\"sk-container-id-2\" class=\"sk-top-container\"><div class=\"sk-text-repr-fallback\"><pre>GridSearchCV(cv=5, estimator=Lasso(),\n",
       "             param_grid={&#x27;alpha&#x27;: [1, 10, 100, 500, 1000]},\n",
       "             scoring=&#x27;neg_mean_squared_error&#x27;)</pre><b>In a Jupyter environment, please rerun this cell to show the HTML representation or trust the notebook. <br />On GitHub, the HTML representation is unable to render, please try loading this page with nbviewer.org.</b></div><div class=\"sk-container\" hidden><div class=\"sk-item sk-dashed-wrapped\"><div class=\"sk-label-container\"><div class=\"sk-label sk-toggleable\"><input class=\"sk-toggleable__control sk-hidden--visually\" id=\"sk-estimator-id-4\" type=\"checkbox\" ><label for=\"sk-estimator-id-4\" class=\"sk-toggleable__label sk-toggleable__label-arrow\">GridSearchCV</label><div class=\"sk-toggleable__content\"><pre>GridSearchCV(cv=5, estimator=Lasso(),\n",
       "             param_grid={&#x27;alpha&#x27;: [1, 10, 100, 500, 1000]},\n",
       "             scoring=&#x27;neg_mean_squared_error&#x27;)</pre></div></div></div><div class=\"sk-parallel\"><div class=\"sk-parallel-item\"><div class=\"sk-item\"><div class=\"sk-label-container\"><div class=\"sk-label sk-toggleable\"><input class=\"sk-toggleable__control sk-hidden--visually\" id=\"sk-estimator-id-5\" type=\"checkbox\" ><label for=\"sk-estimator-id-5\" class=\"sk-toggleable__label sk-toggleable__label-arrow\">estimator: Lasso</label><div class=\"sk-toggleable__content\"><pre>Lasso()</pre></div></div></div><div class=\"sk-serial\"><div class=\"sk-item\"><div class=\"sk-estimator sk-toggleable\"><input class=\"sk-toggleable__control sk-hidden--visually\" id=\"sk-estimator-id-6\" type=\"checkbox\" ><label for=\"sk-estimator-id-6\" class=\"sk-toggleable__label sk-toggleable__label-arrow\">Lasso</label><div class=\"sk-toggleable__content\"><pre>Lasso()</pre></div></div></div></div></div></div></div></div></div></div>"
      ],
      "text/plain": [
       "GridSearchCV(cv=5, estimator=Lasso(),\n",
       "             param_grid={'alpha': [1, 10, 100, 500, 1000]},\n",
       "             scoring='neg_mean_squared_error')"
      ]
     },
     "execution_count": 21,
     "metadata": {},
     "output_type": "execute_result"
    }
   ],
   "source": [
    "# Fit the grid search\n",
    "lasso_grid_search.fit(Z_train, y_train)"
   ]
  },
  {
   "cell_type": "code",
   "execution_count": 22,
   "id": "7b0fbb66-fcbb-4b57-92d5-2a9766ebe83b",
   "metadata": {
    "tags": []
   },
   "outputs": [
    {
     "name": "stdout",
     "output_type": "stream",
     "text": [
      "Best Lasso Hyperparameters: {'alpha': 500}\n"
     ]
    }
   ],
   "source": [
    "# select best hyperparameters \n",
    "best_lasso_params = lasso_grid_search.best_params_\n",
    "print(f'Best Lasso Hyperparameters: {best_lasso_params}')"
   ]
  },
  {
   "cell_type": "code",
   "execution_count": 23,
   "id": "06f21381-ba6f-4942-b9e7-ea5784479927",
   "metadata": {
    "tags": []
   },
   "outputs": [],
   "source": [
    "# use best model for predictions\n",
    "best_lasso_model = lasso_grid_search.best_estimator_\n",
    "y_pred_lasso_train = best_lasso_model.predict(Z_train)\n",
    "y_pred_lasso_test = best_lasso_model.predict(Z_test)"
   ]
  },
  {
   "cell_type": "code",
   "execution_count": 24,
   "id": "44562ef5-fd3c-49e5-9a14-928fe1ef8932",
   "metadata": {
    "tags": []
   },
   "outputs": [],
   "source": [
    "# Evaluate the tuned model's performance\n",
    "mae_lasso_test = mean_absolute_error(y_test, y_pred_lasso_test)\n",
    "r2_lasso_test = r2_score(y_test, y_pred_lasso_test)\n",
    "rmse_lasso_train = np.sqrt(mean_squared_error(y_train, y_pred_lasso_train))\n",
    "rmse_lasso_test = np.sqrt(mean_squared_error(y_test, y_pred_lasso_test))"
   ]
  },
  {
   "cell_type": "code",
   "execution_count": 25,
   "id": "fa06cf78-7d7c-4b7a-b972-84b87e15e8cd",
   "metadata": {
    "tags": []
   },
   "outputs": [
    {
     "name": "stdout",
     "output_type": "stream",
     "text": [
      "Tuned Lasso Regression Results:\n",
      "MAE (Test): 19902.55\n",
      "R²(Test): 0.8687\n",
      "RMSE (Train): 29694.36\n",
      "RMSE: (Test): 27929.80\n"
     ]
    }
   ],
   "source": [
    "print(f'Tuned Lasso Regression Results:')\n",
    "print(f'MAE (Test): {mae_lasso_test:.2f}')\n",
    "print(f'R²(Test): {r2_lasso_test:.4f}')\n",
    "print(f'RMSE (Train): {rmse_lasso_train:.2f}')\n",
    "print(f'RMSE: (Test): {rmse_lasso_test:.2f}')"
   ]
  },
  {
   "cell_type": "markdown",
   "id": "878023b5-c51d-49a0-bd28-5eaf24306c5f",
   "metadata": {},
   "source": [
    "---\n",
    "\n",
    "### Model Evaluation"
   ]
  },
  {
   "cell_type": "code",
   "execution_count": 26,
   "id": "58d2baef-6bb2-46f4-8772-279d1776d745",
   "metadata": {
    "tags": []
   },
   "outputs": [
    {
     "name": "stdout",
     "output_type": "stream",
     "text": [
      "===== Lasso ======\n",
      "Tuned Lasso Regression Results:\n",
      "MAE (Test): 19902.55\n",
      "RMSE (Train): 29694.36\n",
      "RMSE: (Test): 27929.80\n",
      "R²(Test): 0.8687\n",
      "\n",
      "===== Ridge ======\n",
      "Tuned Ridge Regression Results:\n",
      "MAE (Test): 19930.94\n",
      "RMSE (Train): 29628.60\n",
      "RMSE: (Test): 28272.03\n",
      "R² (Test): 0.8655\n"
     ]
    }
   ],
   "source": [
    "print(\" Lasso \".center(18, \"=\"))\n",
    "print(f'Tuned Lasso Regression Results:')\n",
    "print(f'MAE (Test): {mae_lasso_test:.2f}')\n",
    "print(f'RMSE (Train): {rmse_lasso_train:.2f}')\n",
    "print(f'RMSE: (Test): {rmse_lasso_test:.2f}')\n",
    "print(f'R²(Test): {r2_lasso_test:.4f}')\n",
    "print()\n",
    "print(\" Ridge \".center(18, \"=\"))\n",
    "print(f'Tuned Ridge Regression Results:')\n",
    "print(f'MAE (Test): {mae_test:.2f}')\n",
    "print(f'RMSE (Train): {rmse_ridge_train:.2f}')\n",
    "print(f'RMSE: (Test): {rmse_ridge_test:.2f}')\n",
    "print(f'R² (Test): {r2_test:.4f}')"
   ]
  },
  {
   "cell_type": "markdown",
   "id": "27710aef-8f4d-40a8-84c7-49f12ad2dadd",
   "metadata": {},
   "source": [
    "--- \n",
    "\n",
    "### Identify Production Model"
   ]
  },
  {
   "cell_type": "markdown",
   "id": "61bce2b5-c67a-4b80-b131-88d89f99a04e",
   "metadata": {},
   "source": [
    "For the production model I decided to prioritize generalizability and interpretability and selected the Lasso Regression Model. There are a few reasons for this selection. \n",
    "\n",
    "- The first reason is that both lasso and Ridge show comparable performance on the test set with similiar MAE, RMSE, and R-square values, which is a good indicator that one model isn't significantly outperforming the other. \n",
    "- The second reason is that the lasso model sets some coefficients to exactly zero, which helps remove certain features. This attribute can lead to a more interpretable model by highlighting the most influential features. This is crucial for stakeholders in the real estate investment company.\n",
    "- The third reason is that both model show good genralization, but lasso feature selction helps in building a simpler model moreso than Ridge that generalizes well.\n",
    "\n",
    "As such, given the nature of the problem statement, knowing which features are driving predictions is as important as the accuracy of predictions. The result of this model are more straightforward and interpretable, which is crucial for stakeholders in real estate investment company."
   ]
  },
  {
   "cell_type": "markdown",
   "id": "9d061fa5-fe8c-4a36-9f39-520c98cc74ed",
   "metadata": {},
   "source": [
    "**Further Information**"
   ]
  },
  {
   "cell_type": "markdown",
   "id": "e92042d6-a368-466c-9b5a-d9e1ede17ca6",
   "metadata": {},
   "source": [
    "- Mean Absolute Error (MAE): On average, the model's predictions deviate by $19930.94 from the actual sale prices.\"\n",
    "\n",
    "- Root Mean Square Error (RMSE): The model's predictions have a RMSE of 27929.80 on the test set and 29694.36 on the train set, indicating the test performance is good and the model isnt overfitting because they are relatively close to each other. In addition, compared to the baseline model the RMSE on the tuned model is lower which is a positive sign and indicates better generalizarion performances.\n",
    "\n",
    "- R-squared(Test): The R² value of 0.8687 suggests that the model explains 86.87% of the variance in the test set."
   ]
  },
  {
   "cell_type": "code",
   "execution_count": 27,
   "id": "3171116a-3408-4d57-89fd-331cc02ffcc9",
   "metadata": {
    "tags": []
   },
   "outputs": [],
   "source": [
    "# # Save preprocessed data to a CSV file\n",
    "# df_cleaned.to_csv('../data/test_clean4.csv', index=False) "
   ]
  },
  {
   "cell_type": "code",
   "execution_count": null,
   "id": "75e8fbfd-4e64-468a-9ce1-1a6507fa940f",
   "metadata": {},
   "outputs": [],
   "source": []
  }
 ],
 "metadata": {
  "kernelspec": {
   "display_name": "Python 3 (ipykernel)",
   "language": "python",
   "name": "python3"
  },
  "language_info": {
   "codemirror_mode": {
    "name": "ipython",
    "version": 3
   },
   "file_extension": ".py",
   "mimetype": "text/x-python",
   "name": "python",
   "nbconvert_exporter": "python",
   "pygments_lexer": "ipython3",
   "version": "3.11.5"
  }
 },
 "nbformat": 4,
 "nbformat_minor": 5
}
